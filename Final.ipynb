{
 "cells": [
  {
   "cell_type": "markdown",
   "id": "43b25a08",
   "metadata": {},
   "source": [
    "<div style=\"background-color: #FFFFFF;\"><p>&nbsp;</p><center><img src = 'https://iili.io/DCTONV.jpg' style=\"width: 18vw;\" /></center></div>"
   ]
  },
  {
   "cell_type": "markdown",
   "id": "d4bbebac",
   "metadata": {},
   "source": [
    "# Flight price prediction"
   ]
  },
  {
   "cell_type": "markdown",
   "id": "dc3962fd",
   "metadata": {},
   "source": [
    "<h3>Columns</h3>\n",
    "\n",
    "* `Airline` - The name of the airline\n",
    "* `Date_of_Journey` - The date of the journey\n",
    "* `Source` - The source from which the service begins\n",
    "* `Destination` - The destination where the service ends\n",
    "* `Route` - The route taken by the flight to reach the destination\n",
    "* `Dep_Time` - The time when the journey starts from the source\n",
    "* `Arrival_Time` - Time of arrival at the destination\n",
    "* `Duration` - Total duration of the flight\n",
    "* `Total_Stops` - Total stops between the source and destination\n",
    "* `Additional_Info` - Additional information about the flight\n",
    "* `Price` - The price of the ticket"
   ]
  },
  {
   "cell_type": "markdown",
   "id": "cf90f1d9",
   "metadata": {},
   "source": [
    "# My libraries"
   ]
  },
  {
   "cell_type": "code",
   "execution_count": 1,
   "id": "b3163c2b",
   "metadata": {},
   "outputs": [],
   "source": [
    "import numpy as np\n",
    "import matplotlib.pyplot as plt\n",
    "import pandas as pd\n",
    "import seaborn as sns\n"
   ]
  },
  {
   "cell_type": "markdown",
   "id": "3c7770a9",
   "metadata": {},
   "source": [
    "# Data Wrangling"
   ]
  },
  {
   "cell_type": "code",
   "execution_count": 2,
   "id": "943a732f",
   "metadata": {},
   "outputs": [],
   "source": [
    "import warnings\n",
    "warnings.simplefilter(\"ignore\")"
   ]
  },
  {
   "cell_type": "markdown",
   "id": "2318a1c7",
   "metadata": {},
   "source": [
    "# My train dataset"
   ]
  },
  {
   "cell_type": "code",
   "execution_count": 3,
   "id": "3475d8d1",
   "metadata": {},
   "outputs": [],
   "source": [
    "df=pd.read_csv('Train set.csv')"
   ]
  },
  {
   "cell_type": "code",
   "execution_count": 4,
   "id": "4681d22a",
   "metadata": {},
   "outputs": [
    {
     "data": {
      "text/html": [
       "<div>\n",
       "<style scoped>\n",
       "    .dataframe tbody tr th:only-of-type {\n",
       "        vertical-align: middle;\n",
       "    }\n",
       "\n",
       "    .dataframe tbody tr th {\n",
       "        vertical-align: top;\n",
       "    }\n",
       "\n",
       "    .dataframe thead th {\n",
       "        text-align: right;\n",
       "    }\n",
       "</style>\n",
       "<table border=\"1\" class=\"dataframe\">\n",
       "  <thead>\n",
       "    <tr style=\"text-align: right;\">\n",
       "      <th></th>\n",
       "      <th>Airline</th>\n",
       "      <th>Date_of_Journey</th>\n",
       "      <th>Source</th>\n",
       "      <th>Destination</th>\n",
       "      <th>Route</th>\n",
       "      <th>Dep_Time</th>\n",
       "      <th>Arrival_Time</th>\n",
       "      <th>Duration</th>\n",
       "      <th>Total_Stops</th>\n",
       "      <th>Additional_Info</th>\n",
       "      <th>Price</th>\n",
       "    </tr>\n",
       "  </thead>\n",
       "  <tbody>\n",
       "    <tr>\n",
       "      <th>0</th>\n",
       "      <td>IndiGo</td>\n",
       "      <td>9/06/2019</td>\n",
       "      <td>Kolkata</td>\n",
       "      <td>Banglore</td>\n",
       "      <td>CCU → BLR</td>\n",
       "      <td>14:25</td>\n",
       "      <td>16:55</td>\n",
       "      <td>2h 30m</td>\n",
       "      <td>non-stop</td>\n",
       "      <td>No info</td>\n",
       "      <td>5644</td>\n",
       "    </tr>\n",
       "    <tr>\n",
       "      <th>1</th>\n",
       "      <td>Vistara</td>\n",
       "      <td>6/03/2019</td>\n",
       "      <td>Mumbai</td>\n",
       "      <td>Hyderabad</td>\n",
       "      <td>BOM → DEL → HYD</td>\n",
       "      <td>08:45</td>\n",
       "      <td>09:25 07 Mar</td>\n",
       "      <td>24h 40m</td>\n",
       "      <td>1 stop</td>\n",
       "      <td>No info</td>\n",
       "      <td>12395</td>\n",
       "    </tr>\n",
       "    <tr>\n",
       "      <th>2</th>\n",
       "      <td>IndiGo</td>\n",
       "      <td>3/04/2019</td>\n",
       "      <td>Banglore</td>\n",
       "      <td>Delhi</td>\n",
       "      <td>BLR → DEL</td>\n",
       "      <td>06:05</td>\n",
       "      <td>08:50</td>\n",
       "      <td>2h 45m</td>\n",
       "      <td>non-stop</td>\n",
       "      <td>No info</td>\n",
       "      <td>4077</td>\n",
       "    </tr>\n",
       "    <tr>\n",
       "      <th>3</th>\n",
       "      <td>Vistara</td>\n",
       "      <td>12/06/2019</td>\n",
       "      <td>Kolkata</td>\n",
       "      <td>Banglore</td>\n",
       "      <td>CCU → DEL → BLR</td>\n",
       "      <td>17:00</td>\n",
       "      <td>23:25</td>\n",
       "      <td>6h 25m</td>\n",
       "      <td>1 stop</td>\n",
       "      <td>No info</td>\n",
       "      <td>8610</td>\n",
       "    </tr>\n",
       "    <tr>\n",
       "      <th>4</th>\n",
       "      <td>IndiGo</td>\n",
       "      <td>01/03/2019</td>\n",
       "      <td>Banglore</td>\n",
       "      <td>New Delhi</td>\n",
       "      <td>BLR → DEL</td>\n",
       "      <td>10:05</td>\n",
       "      <td>13:00</td>\n",
       "      <td>2h 55m</td>\n",
       "      <td>non-stop</td>\n",
       "      <td>No info</td>\n",
       "      <td>10067</td>\n",
       "    </tr>\n",
       "    <tr>\n",
       "      <th>5</th>\n",
       "      <td>IndiGo</td>\n",
       "      <td>18/03/2019</td>\n",
       "      <td>Chennai</td>\n",
       "      <td>Kolkata</td>\n",
       "      <td>MAA → CCU</td>\n",
       "      <td>19:35</td>\n",
       "      <td>21:55</td>\n",
       "      <td>2h 20m</td>\n",
       "      <td>non-stop</td>\n",
       "      <td>No info</td>\n",
       "      <td>4332</td>\n",
       "    </tr>\n",
       "    <tr>\n",
       "      <th>6</th>\n",
       "      <td>Jet Airways</td>\n",
       "      <td>15/05/2019</td>\n",
       "      <td>Kolkata</td>\n",
       "      <td>Banglore</td>\n",
       "      <td>CCU → BOM → BLR</td>\n",
       "      <td>20:00</td>\n",
       "      <td>04:40 16 May</td>\n",
       "      <td>8h 40m</td>\n",
       "      <td>1 stop</td>\n",
       "      <td>No info</td>\n",
       "      <td>13941</td>\n",
       "    </tr>\n",
       "    <tr>\n",
       "      <th>7</th>\n",
       "      <td>Jet Airways</td>\n",
       "      <td>01/03/2019</td>\n",
       "      <td>Banglore</td>\n",
       "      <td>New Delhi</td>\n",
       "      <td>BLR → BOM → DEL</td>\n",
       "      <td>22:50</td>\n",
       "      <td>00:45 03 Mar</td>\n",
       "      <td>25h 55m</td>\n",
       "      <td>1 stop</td>\n",
       "      <td>No info</td>\n",
       "      <td>26890</td>\n",
       "    </tr>\n",
       "    <tr>\n",
       "      <th>8</th>\n",
       "      <td>Multiple carriers</td>\n",
       "      <td>12/06/2019</td>\n",
       "      <td>Delhi</td>\n",
       "      <td>Cochin</td>\n",
       "      <td>DEL → BOM → COK</td>\n",
       "      <td>13:00</td>\n",
       "      <td>01:30 13 Jun</td>\n",
       "      <td>12h 30m</td>\n",
       "      <td>1 stop</td>\n",
       "      <td>No info</td>\n",
       "      <td>13377</td>\n",
       "    </tr>\n",
       "    <tr>\n",
       "      <th>9</th>\n",
       "      <td>IndiGo</td>\n",
       "      <td>6/05/2019</td>\n",
       "      <td>Delhi</td>\n",
       "      <td>Cochin</td>\n",
       "      <td>DEL → BOM → COK</td>\n",
       "      <td>10:35</td>\n",
       "      <td>01:30 07 May</td>\n",
       "      <td>14h 55m</td>\n",
       "      <td>1 stop</td>\n",
       "      <td>No info</td>\n",
       "      <td>6979</td>\n",
       "    </tr>\n",
       "  </tbody>\n",
       "</table>\n",
       "</div>"
      ],
      "text/plain": [
       "             Airline Date_of_Journey    Source Destination            Route  \\\n",
       "0             IndiGo       9/06/2019   Kolkata    Banglore        CCU → BLR   \n",
       "1            Vistara       6/03/2019    Mumbai   Hyderabad  BOM → DEL → HYD   \n",
       "2             IndiGo       3/04/2019  Banglore       Delhi        BLR → DEL   \n",
       "3            Vistara      12/06/2019   Kolkata    Banglore  CCU → DEL → BLR   \n",
       "4             IndiGo      01/03/2019  Banglore   New Delhi        BLR → DEL   \n",
       "5             IndiGo      18/03/2019   Chennai     Kolkata        MAA → CCU   \n",
       "6        Jet Airways      15/05/2019   Kolkata    Banglore  CCU → BOM → BLR   \n",
       "7        Jet Airways      01/03/2019  Banglore   New Delhi  BLR → BOM → DEL   \n",
       "8  Multiple carriers      12/06/2019     Delhi      Cochin  DEL → BOM → COK   \n",
       "9             IndiGo       6/05/2019     Delhi      Cochin  DEL → BOM → COK   \n",
       "\n",
       "  Dep_Time  Arrival_Time Duration Total_Stops Additional_Info  Price  \n",
       "0    14:25         16:55   2h 30m    non-stop         No info   5644  \n",
       "1    08:45  09:25 07 Mar  24h 40m      1 stop         No info  12395  \n",
       "2    06:05         08:50   2h 45m    non-stop         No info   4077  \n",
       "3    17:00         23:25   6h 25m      1 stop         No info   8610  \n",
       "4    10:05         13:00   2h 55m    non-stop         No info  10067  \n",
       "5    19:35         21:55   2h 20m    non-stop         No info   4332  \n",
       "6    20:00  04:40 16 May   8h 40m      1 stop         No info  13941  \n",
       "7    22:50  00:45 03 Mar  25h 55m      1 stop         No info  26890  \n",
       "8    13:00  01:30 13 Jun  12h 30m      1 stop         No info  13377  \n",
       "9    10:35  01:30 07 May  14h 55m      1 stop         No info   6979  "
      ]
     },
     "execution_count": 4,
     "metadata": {},
     "output_type": "execute_result"
    }
   ],
   "source": [
    "df.head(10)"
   ]
  },
  {
   "cell_type": "markdown",
   "id": "bb72acc1",
   "metadata": {},
   "source": [
    "<center><h2> Looks tough, good, let's dive in! </h2></center>\n",
    "<center><img src = 'https://iili.io/DCTeDB.jpg' style=\"width: 27vw;\"/></center>"
   ]
  },
  {
   "cell_type": "markdown",
   "id": "05f64d33",
   "metadata": {},
   "source": [
    "# Exploring my data"
   ]
  },
  {
   "cell_type": "code",
   "execution_count": 5,
   "id": "bddb32c9",
   "metadata": {},
   "outputs": [
    {
     "name": "stdout",
     "output_type": "stream",
     "text": [
      "<class 'pandas.core.frame.DataFrame'>\n",
      "RangeIndex: 8012 entries, 0 to 8011\n",
      "Data columns (total 11 columns):\n",
      " #   Column           Non-Null Count  Dtype \n",
      "---  ------           --------------  ----- \n",
      " 0   Airline          8012 non-null   object\n",
      " 1   Date_of_Journey  8012 non-null   object\n",
      " 2   Source           8012 non-null   object\n",
      " 3   Destination      8012 non-null   object\n",
      " 4   Route            8011 non-null   object\n",
      " 5   Dep_Time         8012 non-null   object\n",
      " 6   Arrival_Time     8012 non-null   object\n",
      " 7   Duration         8012 non-null   object\n",
      " 8   Total_Stops      8011 non-null   object\n",
      " 9   Additional_Info  8012 non-null   object\n",
      " 10  Price            8012 non-null   int64 \n",
      "dtypes: int64(1), object(10)\n",
      "memory usage: 688.7+ KB\n"
     ]
    }
   ],
   "source": [
    "df.info()"
   ]
  },
  {
   "cell_type": "code",
   "execution_count": 6,
   "id": "82bd0c60",
   "metadata": {},
   "outputs": [
    {
     "data": {
      "text/plain": [
       "Airline            0\n",
       "Date_of_Journey    0\n",
       "Source             0\n",
       "Destination        0\n",
       "Route              1\n",
       "Dep_Time           0\n",
       "Arrival_Time       0\n",
       "Duration           0\n",
       "Total_Stops        1\n",
       "Additional_Info    0\n",
       "Price              0\n",
       "dtype: int64"
      ]
     },
     "execution_count": 6,
     "metadata": {},
     "output_type": "execute_result"
    }
   ],
   "source": [
    "df.isnull().sum()"
   ]
  },
  {
   "cell_type": "markdown",
   "id": "622a39af",
   "metadata": {},
   "source": [
    "* our dataset has 2 nan value so we will drop them \n",
    "* Date_of_Journey column needs to be casted into date time "
   ]
  },
  {
   "cell_type": "code",
   "execution_count": 7,
   "id": "181bf520",
   "metadata": {},
   "outputs": [
    {
     "data": {
      "text/plain": [
       "125"
      ]
     },
     "execution_count": 7,
     "metadata": {},
     "output_type": "execute_result"
    }
   ],
   "source": [
    "# check for duplicated rows\n",
    "df.duplicated().sum()"
   ]
  },
  {
   "cell_type": "markdown",
   "id": "0e9f2b9e",
   "metadata": {},
   "source": [
    "* our dataset has duplicated rows "
   ]
  },
  {
   "cell_type": "markdown",
   "id": "93e1249e",
   "metadata": {},
   "source": [
    "# exploring Airline column"
   ]
  },
  {
   "cell_type": "code",
   "execution_count": 8,
   "id": "93a37302",
   "metadata": {
    "scrolled": true
   },
   "outputs": [
    {
     "data": {
      "text/plain": [
       "Jet Airways                          2882\n",
       "IndiGo                               1534\n",
       "Air India                            1304\n",
       "Multiple carriers                     917\n",
       "SpiceJet                              609\n",
       "Vistara                               352\n",
       "Air Asia                              247\n",
       "GoAir                                 152\n",
       "Multiple carriers Premium economy       8\n",
       "Jet Airways Business                    3\n",
       "Vistara Premium economy                 3\n",
       "Trujet                                  1\n",
       "Name: Airline, dtype: int64"
      ]
     },
     "execution_count": 8,
     "metadata": {},
     "output_type": "execute_result"
    }
   ],
   "source": [
    "df['Airline'].value_counts()"
   ]
  },
  {
   "cell_type": "markdown",
   "id": "314da4b6",
   "metadata": {},
   "source": [
    "* it seems we have different kinds of tickets there are buniness and premium economy, also Trujet has only one flight so maybe it will missleading our insights so we will drop it"
   ]
  },
  {
   "cell_type": "code",
   "execution_count": 9,
   "id": "d39d800a",
   "metadata": {},
   "outputs": [],
   "source": [
    "df['Airline']=df['Airline'].replace(to_replace=['Trujet'],value= None)"
   ]
  },
  {
   "cell_type": "code",
   "execution_count": 10,
   "id": "2f3a570f",
   "metadata": {},
   "outputs": [
    {
     "data": {
      "text/html": [
       "<div>\n",
       "<style scoped>\n",
       "    .dataframe tbody tr th:only-of-type {\n",
       "        vertical-align: middle;\n",
       "    }\n",
       "\n",
       "    .dataframe tbody tr th {\n",
       "        vertical-align: top;\n",
       "    }\n",
       "\n",
       "    .dataframe thead th {\n",
       "        text-align: right;\n",
       "    }\n",
       "</style>\n",
       "<table border=\"1\" class=\"dataframe\">\n",
       "  <thead>\n",
       "    <tr style=\"text-align: right;\">\n",
       "      <th></th>\n",
       "      <th>Airline</th>\n",
       "      <th>Date_of_Journey</th>\n",
       "      <th>Source</th>\n",
       "      <th>Destination</th>\n",
       "      <th>Route</th>\n",
       "      <th>Dep_Time</th>\n",
       "      <th>Arrival_Time</th>\n",
       "      <th>Duration</th>\n",
       "      <th>Total_Stops</th>\n",
       "      <th>Additional_Info</th>\n",
       "      <th>Price</th>\n",
       "    </tr>\n",
       "  </thead>\n",
       "  <tbody>\n",
       "    <tr>\n",
       "      <th>count</th>\n",
       "      <td>8011</td>\n",
       "      <td>8012</td>\n",
       "      <td>8012</td>\n",
       "      <td>8012</td>\n",
       "      <td>8011</td>\n",
       "      <td>8012</td>\n",
       "      <td>8012</td>\n",
       "      <td>8012</td>\n",
       "      <td>8011</td>\n",
       "      <td>8012</td>\n",
       "      <td>8012.000000</td>\n",
       "    </tr>\n",
       "    <tr>\n",
       "      <th>unique</th>\n",
       "      <td>11</td>\n",
       "      <td>44</td>\n",
       "      <td>5</td>\n",
       "      <td>6</td>\n",
       "      <td>121</td>\n",
       "      <td>219</td>\n",
       "      <td>1199</td>\n",
       "      <td>358</td>\n",
       "      <td>5</td>\n",
       "      <td>10</td>\n",
       "      <td>NaN</td>\n",
       "    </tr>\n",
       "    <tr>\n",
       "      <th>top</th>\n",
       "      <td>Jet Airways</td>\n",
       "      <td>6/06/2019</td>\n",
       "      <td>Delhi</td>\n",
       "      <td>Cochin</td>\n",
       "      <td>DEL → BOM → COK</td>\n",
       "      <td>18:55</td>\n",
       "      <td>19:00</td>\n",
       "      <td>2h 50m</td>\n",
       "      <td>1 stop</td>\n",
       "      <td>No info</td>\n",
       "      <td>NaN</td>\n",
       "    </tr>\n",
       "    <tr>\n",
       "      <th>freq</th>\n",
       "      <td>2882</td>\n",
       "      <td>394</td>\n",
       "      <td>3417</td>\n",
       "      <td>3417</td>\n",
       "      <td>1790</td>\n",
       "      <td>187</td>\n",
       "      <td>320</td>\n",
       "      <td>409</td>\n",
       "      <td>4271</td>\n",
       "      <td>6240</td>\n",
       "      <td>NaN</td>\n",
       "    </tr>\n",
       "    <tr>\n",
       "      <th>mean</th>\n",
       "      <td>NaN</td>\n",
       "      <td>NaN</td>\n",
       "      <td>NaN</td>\n",
       "      <td>NaN</td>\n",
       "      <td>NaN</td>\n",
       "      <td>NaN</td>\n",
       "      <td>NaN</td>\n",
       "      <td>NaN</td>\n",
       "      <td>NaN</td>\n",
       "      <td>NaN</td>\n",
       "      <td>9094.237269</td>\n",
       "    </tr>\n",
       "    <tr>\n",
       "      <th>std</th>\n",
       "      <td>NaN</td>\n",
       "      <td>NaN</td>\n",
       "      <td>NaN</td>\n",
       "      <td>NaN</td>\n",
       "      <td>NaN</td>\n",
       "      <td>NaN</td>\n",
       "      <td>NaN</td>\n",
       "      <td>NaN</td>\n",
       "      <td>NaN</td>\n",
       "      <td>NaN</td>\n",
       "      <td>4571.794408</td>\n",
       "    </tr>\n",
       "    <tr>\n",
       "      <th>min</th>\n",
       "      <td>NaN</td>\n",
       "      <td>NaN</td>\n",
       "      <td>NaN</td>\n",
       "      <td>NaN</td>\n",
       "      <td>NaN</td>\n",
       "      <td>NaN</td>\n",
       "      <td>NaN</td>\n",
       "      <td>NaN</td>\n",
       "      <td>NaN</td>\n",
       "      <td>NaN</td>\n",
       "      <td>1759.000000</td>\n",
       "    </tr>\n",
       "    <tr>\n",
       "      <th>25%</th>\n",
       "      <td>NaN</td>\n",
       "      <td>NaN</td>\n",
       "      <td>NaN</td>\n",
       "      <td>NaN</td>\n",
       "      <td>NaN</td>\n",
       "      <td>NaN</td>\n",
       "      <td>NaN</td>\n",
       "      <td>NaN</td>\n",
       "      <td>NaN</td>\n",
       "      <td>NaN</td>\n",
       "      <td>5351.000000</td>\n",
       "    </tr>\n",
       "    <tr>\n",
       "      <th>50%</th>\n",
       "      <td>NaN</td>\n",
       "      <td>NaN</td>\n",
       "      <td>NaN</td>\n",
       "      <td>NaN</td>\n",
       "      <td>NaN</td>\n",
       "      <td>NaN</td>\n",
       "      <td>NaN</td>\n",
       "      <td>NaN</td>\n",
       "      <td>NaN</td>\n",
       "      <td>NaN</td>\n",
       "      <td>8372.000000</td>\n",
       "    </tr>\n",
       "    <tr>\n",
       "      <th>75%</th>\n",
       "      <td>NaN</td>\n",
       "      <td>NaN</td>\n",
       "      <td>NaN</td>\n",
       "      <td>NaN</td>\n",
       "      <td>NaN</td>\n",
       "      <td>NaN</td>\n",
       "      <td>NaN</td>\n",
       "      <td>NaN</td>\n",
       "      <td>NaN</td>\n",
       "      <td>NaN</td>\n",
       "      <td>12373.000000</td>\n",
       "    </tr>\n",
       "    <tr>\n",
       "      <th>max</th>\n",
       "      <td>NaN</td>\n",
       "      <td>NaN</td>\n",
       "      <td>NaN</td>\n",
       "      <td>NaN</td>\n",
       "      <td>NaN</td>\n",
       "      <td>NaN</td>\n",
       "      <td>NaN</td>\n",
       "      <td>NaN</td>\n",
       "      <td>NaN</td>\n",
       "      <td>NaN</td>\n",
       "      <td>79512.000000</td>\n",
       "    </tr>\n",
       "  </tbody>\n",
       "</table>\n",
       "</div>"
      ],
      "text/plain": [
       "            Airline Date_of_Journey Source Destination            Route  \\\n",
       "count          8011            8012   8012        8012             8011   \n",
       "unique           11              44      5           6              121   \n",
       "top     Jet Airways       6/06/2019  Delhi      Cochin  DEL → BOM → COK   \n",
       "freq           2882             394   3417        3417             1790   \n",
       "mean            NaN             NaN    NaN         NaN              NaN   \n",
       "std             NaN             NaN    NaN         NaN              NaN   \n",
       "min             NaN             NaN    NaN         NaN              NaN   \n",
       "25%             NaN             NaN    NaN         NaN              NaN   \n",
       "50%             NaN             NaN    NaN         NaN              NaN   \n",
       "75%             NaN             NaN    NaN         NaN              NaN   \n",
       "max             NaN             NaN    NaN         NaN              NaN   \n",
       "\n",
       "       Dep_Time Arrival_Time Duration Total_Stops Additional_Info  \\\n",
       "count      8012         8012     8012        8011            8012   \n",
       "unique      219         1199      358           5              10   \n",
       "top       18:55        19:00   2h 50m      1 stop         No info   \n",
       "freq        187          320      409        4271            6240   \n",
       "mean        NaN          NaN      NaN         NaN             NaN   \n",
       "std         NaN          NaN      NaN         NaN             NaN   \n",
       "min         NaN          NaN      NaN         NaN             NaN   \n",
       "25%         NaN          NaN      NaN         NaN             NaN   \n",
       "50%         NaN          NaN      NaN         NaN             NaN   \n",
       "75%         NaN          NaN      NaN         NaN             NaN   \n",
       "max         NaN          NaN      NaN         NaN             NaN   \n",
       "\n",
       "               Price  \n",
       "count    8012.000000  \n",
       "unique           NaN  \n",
       "top              NaN  \n",
       "freq             NaN  \n",
       "mean     9094.237269  \n",
       "std      4571.794408  \n",
       "min      1759.000000  \n",
       "25%      5351.000000  \n",
       "50%      8372.000000  \n",
       "75%     12373.000000  \n",
       "max     79512.000000  "
      ]
     },
     "execution_count": 10,
     "metadata": {},
     "output_type": "execute_result"
    }
   ],
   "source": [
    "df.describe(include='all')"
   ]
  },
  {
   "cell_type": "markdown",
   "id": "01cb39e1",
   "metadata": {},
   "source": [
    "# Checking for outliers in Price column"
   ]
  },
  {
   "cell_type": "code",
   "execution_count": 11,
   "id": "5cb61a18",
   "metadata": {},
   "outputs": [
    {
     "data": {
      "text/plain": [
       "<AxesSubplot:xlabel='Price'>"
      ]
     },
     "execution_count": 11,
     "metadata": {},
     "output_type": "execute_result"
    },
    {
     "data": {
      "image/png": "[encoded data removed]",
      "text/plain": [
       "<Figure size 1296x360 with 2 Axes>"
      ]
     },
     "metadata": {
      "needs_background": "light"
     },
     "output_type": "display_data"
    }
   ],
   "source": [
    "plt.figure(figsize = (18,5))\n",
    "plt.subplot(1,2,2)\n",
    "sns.histplot(x = 'Price', data = df, kde = True)\n",
    "plt.subplot(1,2,1)\n",
    "sns.boxplot(x = 'Price', data = df)"
   ]
  },
  {
   "cell_type": "markdown",
   "id": "fd3c8f79",
   "metadata": {},
   "source": [
    "# Exploration summary"
   ]
  },
  {
   "cell_type": "markdown",
   "id": "99f57ea6",
   "metadata": {},
   "source": [
    "* our dataset has nan values and duplicates\n",
    "* Date_of_Journey,Dep_Time and Arrival_Time columns need to be casted into date time \n",
    "* uniforming duration column into minutes for better analysis and modeling\n",
    "* Price column has outliers\n",
    "* we need to add column for the class of the flight "
   ]
  },
  {
   "cell_type": "markdown",
   "id": "02873e22",
   "metadata": {},
   "source": [
    "# data cleaning "
   ]
  },
  {
   "cell_type": "markdown",
   "id": "a7ecffd4",
   "metadata": {},
   "source": [
    "# Handling Price column "
   ]
  },
  {
   "cell_type": "code",
   "execution_count": 12,
   "id": "89f9d100",
   "metadata": {},
   "outputs": [],
   "source": [
    "col='Price'\n",
    "q1 = df[col].quantile(0.25)\n",
    "q3 = df[col].quantile(0.75)\n",
    "iqr = q3 - q1\n",
    "fence_low = q1 - (1.5*iqr)\n",
    "fence_high = q3 + (1.5*iqr)\n",
    "N_O_O = df.loc[(df[col] < fence_low) | (df[col] > fence_high)].shape[0]\n",
    "df.loc[(df[col] < fence_low),col] = fence_low\n",
    "df.loc[(df[col] > fence_high),col] = fence_high"
   ]
  },
  {
   "cell_type": "code",
   "execution_count": 13,
   "id": "93ce29a2",
   "metadata": {},
   "outputs": [
    {
     "data": {
      "text/plain": [
       "<AxesSubplot:xlabel='Price'>"
      ]
     },
     "execution_count": 13,
     "metadata": {},
     "output_type": "execute_result"
    },
    {
     "data": {
      "image/png": "[encoded data removed]",
      "text/plain": [
       "<Figure size 1296x360 with 2 Axes>"
      ]
     },
     "metadata": {
      "needs_background": "light"
     },
     "output_type": "display_data"
    }
   ],
   "source": [
    "# conferming changes\n",
    "plt.figure(figsize = (18,5))\n",
    "plt.subplot(1,2,2)\n",
    "sns.histplot(x = 'Price', data = df, kde = True)\n",
    "plt.subplot(1,2,1)\n",
    "sns.boxplot(x = 'Price', data = df)"
   ]
  },
  {
   "cell_type": "code",
   "execution_count": 14,
   "id": "8513c60c",
   "metadata": {},
   "outputs": [
    {
     "data": {
      "text/plain": [
       "Airline            0\n",
       "Date_of_Journey    0\n",
       "Source             0\n",
       "Destination        0\n",
       "Route              0\n",
       "Dep_Time           0\n",
       "Arrival_Time       0\n",
       "Duration           0\n",
       "Total_Stops        0\n",
       "Additional_Info    0\n",
       "Price              0\n",
       "dtype: int64"
      ]
     },
     "execution_count": 14,
     "metadata": {},
     "output_type": "execute_result"
    }
   ],
   "source": [
    "# dropping nan values \n",
    "df=df.dropna()\n",
    "\n",
    "# confirming changes\n",
    "df.isnull().sum()"
   ]
  },
  {
   "cell_type": "code",
   "execution_count": 15,
   "id": "fd9bc17d",
   "metadata": {},
   "outputs": [
    {
     "data": {
      "text/plain": [
       "0"
      ]
     },
     "execution_count": 15,
     "metadata": {},
     "output_type": "execute_result"
    }
   ],
   "source": [
    "# dropping duplicated\n",
    "df.drop_duplicates(inplace=True)\n",
    "\n",
    "# confirming changes \n",
    "df.duplicated().sum()"
   ]
  },
  {
   "cell_type": "code",
   "execution_count": 16,
   "id": "b6415b51",
   "metadata": {},
   "outputs": [
    {
     "data": {
      "text/plain": [
       "(7885, 11)"
      ]
     },
     "execution_count": 16,
     "metadata": {},
     "output_type": "execute_result"
    }
   ],
   "source": [
    "df.shape"
   ]
  },
  {
   "cell_type": "markdown",
   "id": "6f0dbfa5",
   "metadata": {},
   "source": [
    "# casting time columns to datetime "
   ]
  },
  {
   "cell_type": "code",
   "execution_count": 17,
   "id": "dac1d3f4",
   "metadata": {},
   "outputs": [],
   "source": [
    "def change_into_datetime(col):\n",
    "    df[col]=pd.to_datetime(df[col])"
   ]
  },
  {
   "cell_type": "code",
   "execution_count": 18,
   "id": "9450eac9",
   "metadata": {},
   "outputs": [],
   "source": [
    "for i in ['Dep_Time', 'Arrival_Time']:\n",
    "    change_into_datetime(i)   "
   ]
  },
  {
   "cell_type": "code",
   "execution_count": 19,
   "id": "9f2f6927",
   "metadata": {},
   "outputs": [
    {
     "data": {
      "text/plain": [
       "Airline                    object\n",
       "Date_of_Journey            object\n",
       "Source                     object\n",
       "Destination                object\n",
       "Route                      object\n",
       "Dep_Time           datetime64[ns]\n",
       "Arrival_Time       datetime64[ns]\n",
       "Duration                   object\n",
       "Total_Stops                object\n",
       "Additional_Info            object\n",
       "Price                       int64\n",
       "dtype: object"
      ]
     },
     "execution_count": 19,
     "metadata": {},
     "output_type": "execute_result"
    }
   ],
   "source": [
    "df.dtypes"
   ]
  },
  {
   "cell_type": "markdown",
   "id": "8648d504",
   "metadata": {},
   "source": [
    "# Handling Duration column"
   ]
  },
  {
   "cell_type": "code",
   "execution_count": 20,
   "id": "af406217",
   "metadata": {},
   "outputs": [
    {
     "data": {
      "text/html": [
       "<div>\n",
       "<style scoped>\n",
       "    .dataframe tbody tr th:only-of-type {\n",
       "        vertical-align: middle;\n",
       "    }\n",
       "\n",
       "    .dataframe tbody tr th {\n",
       "        vertical-align: top;\n",
       "    }\n",
       "\n",
       "    .dataframe thead th {\n",
       "        text-align: right;\n",
       "    }\n",
       "</style>\n",
       "<table border=\"1\" class=\"dataframe\">\n",
       "  <thead>\n",
       "    <tr style=\"text-align: right;\">\n",
       "      <th></th>\n",
       "      <th>Airline</th>\n",
       "      <th>Date_of_Journey</th>\n",
       "      <th>Source</th>\n",
       "      <th>Destination</th>\n",
       "      <th>Route</th>\n",
       "      <th>Dep_Time</th>\n",
       "      <th>Arrival_Time</th>\n",
       "      <th>Duration</th>\n",
       "      <th>Total_Stops</th>\n",
       "      <th>Additional_Info</th>\n",
       "      <th>Price</th>\n",
       "    </tr>\n",
       "  </thead>\n",
       "  <tbody>\n",
       "    <tr>\n",
       "      <th>0</th>\n",
       "      <td>IndiGo</td>\n",
       "      <td>9/06/2019</td>\n",
       "      <td>Kolkata</td>\n",
       "      <td>Banglore</td>\n",
       "      <td>CCU → BLR</td>\n",
       "      <td>2022-10-23 14:25:00</td>\n",
       "      <td>2022-10-23 16:55:00</td>\n",
       "      <td>150</td>\n",
       "      <td>non-stop</td>\n",
       "      <td>No info</td>\n",
       "      <td>5644</td>\n",
       "    </tr>\n",
       "    <tr>\n",
       "      <th>1</th>\n",
       "      <td>Vistara</td>\n",
       "      <td>6/03/2019</td>\n",
       "      <td>Mumbai</td>\n",
       "      <td>Hyderabad</td>\n",
       "      <td>BOM → DEL → HYD</td>\n",
       "      <td>2022-10-23 08:45:00</td>\n",
       "      <td>2022-03-07 09:25:00</td>\n",
       "      <td>1480</td>\n",
       "      <td>1 stop</td>\n",
       "      <td>No info</td>\n",
       "      <td>12395</td>\n",
       "    </tr>\n",
       "    <tr>\n",
       "      <th>2</th>\n",
       "      <td>IndiGo</td>\n",
       "      <td>3/04/2019</td>\n",
       "      <td>Banglore</td>\n",
       "      <td>Delhi</td>\n",
       "      <td>BLR → DEL</td>\n",
       "      <td>2022-10-23 06:05:00</td>\n",
       "      <td>2022-10-23 08:50:00</td>\n",
       "      <td>165</td>\n",
       "      <td>non-stop</td>\n",
       "      <td>No info</td>\n",
       "      <td>4077</td>\n",
       "    </tr>\n",
       "    <tr>\n",
       "      <th>3</th>\n",
       "      <td>Vistara</td>\n",
       "      <td>12/06/2019</td>\n",
       "      <td>Kolkata</td>\n",
       "      <td>Banglore</td>\n",
       "      <td>CCU → DEL → BLR</td>\n",
       "      <td>2022-10-23 17:00:00</td>\n",
       "      <td>2022-10-23 23:25:00</td>\n",
       "      <td>385</td>\n",
       "      <td>1 stop</td>\n",
       "      <td>No info</td>\n",
       "      <td>8610</td>\n",
       "    </tr>\n",
       "    <tr>\n",
       "      <th>4</th>\n",
       "      <td>IndiGo</td>\n",
       "      <td>01/03/2019</td>\n",
       "      <td>Banglore</td>\n",
       "      <td>New Delhi</td>\n",
       "      <td>BLR → DEL</td>\n",
       "      <td>2022-10-23 10:05:00</td>\n",
       "      <td>2022-10-23 13:00:00</td>\n",
       "      <td>175</td>\n",
       "      <td>non-stop</td>\n",
       "      <td>No info</td>\n",
       "      <td>10067</td>\n",
       "    </tr>\n",
       "  </tbody>\n",
       "</table>\n",
       "</div>"
      ],
      "text/plain": [
       "   Airline Date_of_Journey    Source Destination            Route  \\\n",
       "0   IndiGo       9/06/2019   Kolkata    Banglore        CCU → BLR   \n",
       "1  Vistara       6/03/2019    Mumbai   Hyderabad  BOM → DEL → HYD   \n",
       "2   IndiGo       3/04/2019  Banglore       Delhi        BLR → DEL   \n",
       "3  Vistara      12/06/2019   Kolkata    Banglore  CCU → DEL → BLR   \n",
       "4   IndiGo      01/03/2019  Banglore   New Delhi        BLR → DEL   \n",
       "\n",
       "             Dep_Time        Arrival_Time  Duration Total_Stops  \\\n",
       "0 2022-10-23 14:25:00 2022-10-23 16:55:00       150    non-stop   \n",
       "1 2022-10-23 08:45:00 2022-03-07 09:25:00      1480      1 stop   \n",
       "2 2022-10-23 06:05:00 2022-10-23 08:50:00       165    non-stop   \n",
       "3 2022-10-23 17:00:00 2022-10-23 23:25:00       385      1 stop   \n",
       "4 2022-10-23 10:05:00 2022-10-23 13:00:00       175    non-stop   \n",
       "\n",
       "  Additional_Info  Price  \n",
       "0         No info   5644  \n",
       "1         No info  12395  \n",
       "2         No info   4077  \n",
       "3         No info   8610  \n",
       "4         No info  10067  "
      ]
     },
     "execution_count": 20,
     "metadata": {},
     "output_type": "execute_result"
    }
   ],
   "source": [
    "df['Duration']=  df['Duration'].str.replace(\"h\", '*60').str.replace(' ','+').str.replace('m','*1').apply(eval)\n",
    "\n",
    "# confirm changes \n",
    "df.head()"
   ]
  },
  {
   "cell_type": "code",
   "execution_count": 21,
   "id": "94cc31bd",
   "metadata": {},
   "outputs": [
    {
     "data": {
      "text/plain": [
       "array([ 150, 1480,  165,  385,  175,  140,  520, 1555,  750,  895, 1025,\n",
       "        860, 2240, 1440,  170, 1405,  440,  160,  375,  740,  335,  135,\n",
       "        490, 1090,  920,  270,  660, 1495, 1120,  505,  865,  720,  675,\n",
       "        380,  545, 1470,  735,  575,  690,  840,  155, 1520,  910,  565,\n",
       "        450,  705,  535, 1005,  315,  390,  845,  590,  195, 1745, 1295,\n",
       "        965,  560, 1365,  345,  875,  975,  180,   85,  290,  800,  145,\n",
       "       1325, 1380,  355,  810,  240,  680, 1145, 1705,  570, 1300, 1215,\n",
       "       1320, 1265,  360, 1285,  715,  955,  435,  730, 1430, 1620,  530,\n",
       "       1385, 1730,  460,  475, 2820,   90,  190,  465,  710,  780, 1000,\n",
       "        325, 1560, 1425,  655,  480, 1110,  295, 1655,  615,  790,  220,\n",
       "       1195, 1600,  830, 1355, 1100, 1255,  765, 1580,  420,  685,  900,\n",
       "        400,  890,  310,  330,  370, 2280, 1615, 1420, 1010, 1125, 1410,\n",
       "       1545,  755,  185,  725, 2245,  620,  455, 1050,  485,   80,  500,\n",
       "        960, 1485, 1595,  930,  665,  695, 1035,  540,   75,  425,  835,\n",
       "       1080,  805, 1995,  950, 1550, 1055,  795, 1015, 1435,  300, 1275,\n",
       "       1625,  870,  320,  625,  305, 1570, 1830,  555, 1590, 1700, 1465,\n",
       "       1375,  600,  395,  365,  925,  760, 1270, 1415,  275,  265,  510,\n",
       "       1585, 1280, 2295,  885, 1220, 1350, 1030, 1610, 2105, 1315, 2300,\n",
       "        605,  585,  630,  935, 1505,  855,  550, 1690,  415,  825, 1475,\n",
       "       1395, 1695, 1200, 1235,   95, 1650, 1135, 1180, 1800, 1680, 2065,\n",
       "       1500, 1535,  470,  700, 1165,  445, 1140, 1455,  610, 1155, 1605,\n",
       "        775, 1075,  340, 1670,  280, 1065,  970, 1330,  745,  940,  235,\n",
       "        640, 1390, 1925, 1490, 1525, 1400, 1040,  820,  850, 1450,  650,\n",
       "       2040, 1665,  525, 1115, 1770, 1305, 1640, 1210,  350,  215, 1345,\n",
       "       1150, 1795, 1245, 1825, 1335, 1975, 2345, 1170, 1855, 1250, 1360,\n",
       "       1760,  645, 1575,  260,  635,  985, 1900, 1105,  995,  905, 1915,\n",
       "        245,  495, 1775, 1045,  595,  285, 2120, 1720, 1130,  945,  880,\n",
       "        405, 1510, 1820, 1515, 1530, 1445, 1840, 2860,  580,  770,  515,\n",
       "       1540,  915, 1660, 2315,  230, 1260, 1630,  980,  785, 1225, 1095,\n",
       "       2115, 1685, 1845, 1645, 1185,  410, 2480,  815,  430, 2525, 2170,\n",
       "       1735,    5, 1290, 2045, 1565, 1950, 1190, 1070, 1790, 1240,  255,\n",
       "       1940, 1060, 1815, 1460,  670, 1910, 1205, 1160, 2070, 2135, 1310,\n",
       "        990, 1175, 1890, 1810, 2420, 1750], dtype=int64)"
      ]
     },
     "execution_count": 21,
     "metadata": {},
     "output_type": "execute_result"
    }
   ],
   "source": [
    "df['Duration'].unique()"
   ]
  },
  {
   "cell_type": "markdown",
   "id": "82e83d58",
   "metadata": {},
   "source": [
    "* it seems we have flight that its duration is 5 min! so we will drop it"
   ]
  },
  {
   "cell_type": "code",
   "execution_count": 22,
   "id": "5b65daf6",
   "metadata": {},
   "outputs": [],
   "source": [
    "df['Duration']=df['Duration'].replace(to_replace=5,value=None)\n",
    "df=df.dropna()"
   ]
  },
  {
   "cell_type": "code",
   "execution_count": 23,
   "id": "7c190d9e",
   "metadata": {},
   "outputs": [],
   "source": [
    "# casting date of journey to datetime\n",
    "df['Date_of_Journey']=pd.to_datetime(df['Date_of_Journey'], format = \"%d/%m/%Y\")"
   ]
  },
  {
   "cell_type": "code",
   "execution_count": 24,
   "id": "779488ae",
   "metadata": {},
   "outputs": [
    {
     "data": {
      "text/plain": [
       "0   2019-06-09\n",
       "1   2019-03-06\n",
       "2   2019-04-03\n",
       "3   2019-06-12\n",
       "4   2019-03-01\n",
       "5   2019-03-18\n",
       "6   2019-05-15\n",
       "7   2019-03-01\n",
       "8   2019-06-12\n",
       "9   2019-05-06\n",
       "Name: Date_of_Journey, dtype: datetime64[ns]"
      ]
     },
     "execution_count": 24,
     "metadata": {},
     "output_type": "execute_result"
    }
   ],
   "source": [
    "df['Date_of_Journey'].head(10)"
   ]
  },
  {
   "cell_type": "code",
   "execution_count": 25,
   "id": "bad0a0ec",
   "metadata": {},
   "outputs": [],
   "source": [
    "# extracting the month and the day from date of journey\n",
    "df['journey_day']=df['Date_of_Journey'].dt.day\n",
    "df['journey_month']=df['Date_of_Journey'].dt.month"
   ]
  },
  {
   "cell_type": "code",
   "execution_count": 26,
   "id": "e3d1abba",
   "metadata": {},
   "outputs": [
    {
     "data": {
      "text/html": [
       "<div>\n",
       "<style scoped>\n",
       "    .dataframe tbody tr th:only-of-type {\n",
       "        vertical-align: middle;\n",
       "    }\n",
       "\n",
       "    .dataframe tbody tr th {\n",
       "        vertical-align: top;\n",
       "    }\n",
       "\n",
       "    .dataframe thead th {\n",
       "        text-align: right;\n",
       "    }\n",
       "</style>\n",
       "<table border=\"1\" class=\"dataframe\">\n",
       "  <thead>\n",
       "    <tr style=\"text-align: right;\">\n",
       "      <th></th>\n",
       "      <th>Airline</th>\n",
       "      <th>Date_of_Journey</th>\n",
       "      <th>Source</th>\n",
       "      <th>Destination</th>\n",
       "      <th>Route</th>\n",
       "      <th>Dep_Time</th>\n",
       "      <th>Arrival_Time</th>\n",
       "      <th>Duration</th>\n",
       "      <th>Total_Stops</th>\n",
       "      <th>Additional_Info</th>\n",
       "      <th>Price</th>\n",
       "      <th>journey_day</th>\n",
       "      <th>journey_month</th>\n",
       "    </tr>\n",
       "  </thead>\n",
       "  <tbody>\n",
       "    <tr>\n",
       "      <th>0</th>\n",
       "      <td>IndiGo</td>\n",
       "      <td>2019-06-09</td>\n",
       "      <td>Kolkata</td>\n",
       "      <td>Banglore</td>\n",
       "      <td>CCU → BLR</td>\n",
       "      <td>2022-10-23 14:25:00</td>\n",
       "      <td>2022-10-23 16:55:00</td>\n",
       "      <td>150</td>\n",
       "      <td>non-stop</td>\n",
       "      <td>No info</td>\n",
       "      <td>5644</td>\n",
       "      <td>9</td>\n",
       "      <td>6</td>\n",
       "    </tr>\n",
       "    <tr>\n",
       "      <th>1</th>\n",
       "      <td>Vistara</td>\n",
       "      <td>2019-03-06</td>\n",
       "      <td>Mumbai</td>\n",
       "      <td>Hyderabad</td>\n",
       "      <td>BOM → DEL → HYD</td>\n",
       "      <td>2022-10-23 08:45:00</td>\n",
       "      <td>2022-03-07 09:25:00</td>\n",
       "      <td>1480</td>\n",
       "      <td>1 stop</td>\n",
       "      <td>No info</td>\n",
       "      <td>12395</td>\n",
       "      <td>6</td>\n",
       "      <td>3</td>\n",
       "    </tr>\n",
       "    <tr>\n",
       "      <th>2</th>\n",
       "      <td>IndiGo</td>\n",
       "      <td>2019-04-03</td>\n",
       "      <td>Banglore</td>\n",
       "      <td>Delhi</td>\n",
       "      <td>BLR → DEL</td>\n",
       "      <td>2022-10-23 06:05:00</td>\n",
       "      <td>2022-10-23 08:50:00</td>\n",
       "      <td>165</td>\n",
       "      <td>non-stop</td>\n",
       "      <td>No info</td>\n",
       "      <td>4077</td>\n",
       "      <td>3</td>\n",
       "      <td>4</td>\n",
       "    </tr>\n",
       "    <tr>\n",
       "      <th>3</th>\n",
       "      <td>Vistara</td>\n",
       "      <td>2019-06-12</td>\n",
       "      <td>Kolkata</td>\n",
       "      <td>Banglore</td>\n",
       "      <td>CCU → DEL → BLR</td>\n",
       "      <td>2022-10-23 17:00:00</td>\n",
       "      <td>2022-10-23 23:25:00</td>\n",
       "      <td>385</td>\n",
       "      <td>1 stop</td>\n",
       "      <td>No info</td>\n",
       "      <td>8610</td>\n",
       "      <td>12</td>\n",
       "      <td>6</td>\n",
       "    </tr>\n",
       "    <tr>\n",
       "      <th>4</th>\n",
       "      <td>IndiGo</td>\n",
       "      <td>2019-03-01</td>\n",
       "      <td>Banglore</td>\n",
       "      <td>New Delhi</td>\n",
       "      <td>BLR → DEL</td>\n",
       "      <td>2022-10-23 10:05:00</td>\n",
       "      <td>2022-10-23 13:00:00</td>\n",
       "      <td>175</td>\n",
       "      <td>non-stop</td>\n",
       "      <td>No info</td>\n",
       "      <td>10067</td>\n",
       "      <td>1</td>\n",
       "      <td>3</td>\n",
       "    </tr>\n",
       "  </tbody>\n",
       "</table>\n",
       "</div>"
      ],
      "text/plain": [
       "   Airline Date_of_Journey    Source Destination            Route  \\\n",
       "0   IndiGo      2019-06-09   Kolkata    Banglore        CCU → BLR   \n",
       "1  Vistara      2019-03-06    Mumbai   Hyderabad  BOM → DEL → HYD   \n",
       "2   IndiGo      2019-04-03  Banglore       Delhi        BLR → DEL   \n",
       "3  Vistara      2019-06-12   Kolkata    Banglore  CCU → DEL → BLR   \n",
       "4   IndiGo      2019-03-01  Banglore   New Delhi        BLR → DEL   \n",
       "\n",
       "             Dep_Time        Arrival_Time Duration Total_Stops  \\\n",
       "0 2022-10-23 14:25:00 2022-10-23 16:55:00      150    non-stop   \n",
       "1 2022-10-23 08:45:00 2022-03-07 09:25:00     1480      1 stop   \n",
       "2 2022-10-23 06:05:00 2022-10-23 08:50:00      165    non-stop   \n",
       "3 2022-10-23 17:00:00 2022-10-23 23:25:00      385      1 stop   \n",
       "4 2022-10-23 10:05:00 2022-10-23 13:00:00      175    non-stop   \n",
       "\n",
       "  Additional_Info  Price  journey_day  journey_month  \n",
       "0         No info   5644            9              6  \n",
       "1         No info  12395            6              3  \n",
       "2         No info   4077            3              4  \n",
       "3         No info   8610           12              6  \n",
       "4         No info  10067            1              3  "
      ]
     },
     "execution_count": 26,
     "metadata": {},
     "output_type": "execute_result"
    }
   ],
   "source": [
    "df.head()"
   ]
  },
  {
   "cell_type": "code",
   "execution_count": 27,
   "id": "b8f9e604",
   "metadata": {},
   "outputs": [],
   "source": [
    "# Then there will be no use of 'Date_of_Journey' column,so we drop it.\n",
    "df.drop('Date_of_Journey', axis=1, inplace=True)"
   ]
  },
  {
   "cell_type": "markdown",
   "id": "957fdc3f",
   "metadata": {},
   "source": [
    "From Arrival_time and Dept_time columns,we extract hour and minutes and stored in new columns and drop these columns"
   ]
  },
  {
   "cell_type": "code",
   "execution_count": 28,
   "id": "d3f525b6",
   "metadata": {},
   "outputs": [],
   "source": [
    "df['Arrival_Time'+'_hour']=df['Arrival_Time'].dt.hour\n",
    "df['Arrival_Time'+'_min']=df['Arrival_Time'].dt.minute"
   ]
  },
  {
   "cell_type": "code",
   "execution_count": 29,
   "id": "2c925522",
   "metadata": {},
   "outputs": [],
   "source": [
    "df['Dep_Time'+'_hour']=df['Dep_Time'].dt.hour\n",
    "df['Dep_Time'+'_min']=df['Dep_Time'].dt.minute"
   ]
  },
  {
   "cell_type": "code",
   "execution_count": 30,
   "id": "4d425d3f",
   "metadata": {},
   "outputs": [
    {
     "data": {
      "text/html": [
       "<div>\n",
       "<style scoped>\n",
       "    .dataframe tbody tr th:only-of-type {\n",
       "        vertical-align: middle;\n",
       "    }\n",
       "\n",
       "    .dataframe tbody tr th {\n",
       "        vertical-align: top;\n",
       "    }\n",
       "\n",
       "    .dataframe thead th {\n",
       "        text-align: right;\n",
       "    }\n",
       "</style>\n",
       "<table border=\"1\" class=\"dataframe\">\n",
       "  <thead>\n",
       "    <tr style=\"text-align: right;\">\n",
       "      <th></th>\n",
       "      <th>Airline</th>\n",
       "      <th>Source</th>\n",
       "      <th>Destination</th>\n",
       "      <th>Route</th>\n",
       "      <th>Dep_Time</th>\n",
       "      <th>Arrival_Time</th>\n",
       "      <th>Duration</th>\n",
       "      <th>Total_Stops</th>\n",
       "      <th>Additional_Info</th>\n",
       "      <th>Price</th>\n",
       "      <th>journey_day</th>\n",
       "      <th>journey_month</th>\n",
       "      <th>Arrival_Time_hour</th>\n",
       "      <th>Arrival_Time_min</th>\n",
       "      <th>Dep_Time_hour</th>\n",
       "      <th>Dep_Time_min</th>\n",
       "    </tr>\n",
       "  </thead>\n",
       "  <tbody>\n",
       "    <tr>\n",
       "      <th>0</th>\n",
       "      <td>IndiGo</td>\n",
       "      <td>Kolkata</td>\n",
       "      <td>Banglore</td>\n",
       "      <td>CCU → BLR</td>\n",
       "      <td>2022-10-23 14:25:00</td>\n",
       "      <td>2022-10-23 16:55:00</td>\n",
       "      <td>150</td>\n",
       "      <td>non-stop</td>\n",
       "      <td>No info</td>\n",
       "      <td>5644</td>\n",
       "      <td>9</td>\n",
       "      <td>6</td>\n",
       "      <td>16</td>\n",
       "      <td>55</td>\n",
       "      <td>14</td>\n",
       "      <td>25</td>\n",
       "    </tr>\n",
       "    <tr>\n",
       "      <th>1</th>\n",
       "      <td>Vistara</td>\n",
       "      <td>Mumbai</td>\n",
       "      <td>Hyderabad</td>\n",
       "      <td>BOM → DEL → HYD</td>\n",
       "      <td>2022-10-23 08:45:00</td>\n",
       "      <td>2022-03-07 09:25:00</td>\n",
       "      <td>1480</td>\n",
       "      <td>1 stop</td>\n",
       "      <td>No info</td>\n",
       "      <td>12395</td>\n",
       "      <td>6</td>\n",
       "      <td>3</td>\n",
       "      <td>9</td>\n",
       "      <td>25</td>\n",
       "      <td>8</td>\n",
       "      <td>45</td>\n",
       "    </tr>\n",
       "    <tr>\n",
       "      <th>2</th>\n",
       "      <td>IndiGo</td>\n",
       "      <td>Banglore</td>\n",
       "      <td>Delhi</td>\n",
       "      <td>BLR → DEL</td>\n",
       "      <td>2022-10-23 06:05:00</td>\n",
       "      <td>2022-10-23 08:50:00</td>\n",
       "      <td>165</td>\n",
       "      <td>non-stop</td>\n",
       "      <td>No info</td>\n",
       "      <td>4077</td>\n",
       "      <td>3</td>\n",
       "      <td>4</td>\n",
       "      <td>8</td>\n",
       "      <td>50</td>\n",
       "      <td>6</td>\n",
       "      <td>5</td>\n",
       "    </tr>\n",
       "    <tr>\n",
       "      <th>3</th>\n",
       "      <td>Vistara</td>\n",
       "      <td>Kolkata</td>\n",
       "      <td>Banglore</td>\n",
       "      <td>CCU → DEL → BLR</td>\n",
       "      <td>2022-10-23 17:00:00</td>\n",
       "      <td>2022-10-23 23:25:00</td>\n",
       "      <td>385</td>\n",
       "      <td>1 stop</td>\n",
       "      <td>No info</td>\n",
       "      <td>8610</td>\n",
       "      <td>12</td>\n",
       "      <td>6</td>\n",
       "      <td>23</td>\n",
       "      <td>25</td>\n",
       "      <td>17</td>\n",
       "      <td>0</td>\n",
       "    </tr>\n",
       "    <tr>\n",
       "      <th>4</th>\n",
       "      <td>IndiGo</td>\n",
       "      <td>Banglore</td>\n",
       "      <td>New Delhi</td>\n",
       "      <td>BLR → DEL</td>\n",
       "      <td>2022-10-23 10:05:00</td>\n",
       "      <td>2022-10-23 13:00:00</td>\n",
       "      <td>175</td>\n",
       "      <td>non-stop</td>\n",
       "      <td>No info</td>\n",
       "      <td>10067</td>\n",
       "      <td>1</td>\n",
       "      <td>3</td>\n",
       "      <td>13</td>\n",
       "      <td>0</td>\n",
       "      <td>10</td>\n",
       "      <td>5</td>\n",
       "    </tr>\n",
       "  </tbody>\n",
       "</table>\n",
       "</div>"
      ],
      "text/plain": [
       "   Airline    Source Destination            Route            Dep_Time  \\\n",
       "0   IndiGo   Kolkata    Banglore        CCU → BLR 2022-10-23 14:25:00   \n",
       "1  Vistara    Mumbai   Hyderabad  BOM → DEL → HYD 2022-10-23 08:45:00   \n",
       "2   IndiGo  Banglore       Delhi        BLR → DEL 2022-10-23 06:05:00   \n",
       "3  Vistara   Kolkata    Banglore  CCU → DEL → BLR 2022-10-23 17:00:00   \n",
       "4   IndiGo  Banglore   New Delhi        BLR → DEL 2022-10-23 10:05:00   \n",
       "\n",
       "         Arrival_Time Duration Total_Stops Additional_Info  Price  \\\n",
       "0 2022-10-23 16:55:00      150    non-stop         No info   5644   \n",
       "1 2022-03-07 09:25:00     1480      1 stop         No info  12395   \n",
       "2 2022-10-23 08:50:00      165    non-stop         No info   4077   \n",
       "3 2022-10-23 23:25:00      385      1 stop         No info   8610   \n",
       "4 2022-10-23 13:00:00      175    non-stop         No info  10067   \n",
       "\n",
       "   journey_day  journey_month  Arrival_Time_hour  Arrival_Time_min  \\\n",
       "0            9              6                 16                55   \n",
       "1            6              3                  9                25   \n",
       "2            3              4                  8                50   \n",
       "3           12              6                 23                25   \n",
       "4            1              3                 13                 0   \n",
       "\n",
       "   Dep_Time_hour  Dep_Time_min  \n",
       "0             14            25  \n",
       "1              8            45  \n",
       "2              6             5  \n",
       "3             17             0  \n",
       "4             10             5  "
      ]
     },
     "execution_count": 30,
     "metadata": {},
     "output_type": "execute_result"
    }
   ],
   "source": [
    "df.head()"
   ]
  },
  {
   "cell_type": "code",
   "execution_count": 31,
   "id": "02233761",
   "metadata": {},
   "outputs": [],
   "source": [
    "# dropping Dep_Time and Arrival_Time columns\n",
    "df.drop('Arrival_Time',axis=1,inplace=True)\n",
    "df.drop('Dep_Time',axis=1,inplace=True)"
   ]
  },
  {
   "cell_type": "code",
   "execution_count": 32,
   "id": "174d5232",
   "metadata": {},
   "outputs": [
    {
     "data": {
      "text/html": [
       "<div>\n",
       "<style scoped>\n",
       "    .dataframe tbody tr th:only-of-type {\n",
       "        vertical-align: middle;\n",
       "    }\n",
       "\n",
       "    .dataframe tbody tr th {\n",
       "        vertical-align: top;\n",
       "    }\n",
       "\n",
       "    .dataframe thead th {\n",
       "        text-align: right;\n",
       "    }\n",
       "</style>\n",
       "<table border=\"1\" class=\"dataframe\">\n",
       "  <thead>\n",
       "    <tr style=\"text-align: right;\">\n",
       "      <th></th>\n",
       "      <th>Airline</th>\n",
       "      <th>Source</th>\n",
       "      <th>Destination</th>\n",
       "      <th>Route</th>\n",
       "      <th>Duration</th>\n",
       "      <th>Total_Stops</th>\n",
       "      <th>Additional_Info</th>\n",
       "      <th>Price</th>\n",
       "      <th>journey_day</th>\n",
       "      <th>journey_month</th>\n",
       "      <th>Arrival_Time_hour</th>\n",
       "      <th>Arrival_Time_min</th>\n",
       "      <th>Dep_Time_hour</th>\n",
       "      <th>Dep_Time_min</th>\n",
       "    </tr>\n",
       "  </thead>\n",
       "  <tbody>\n",
       "    <tr>\n",
       "      <th>0</th>\n",
       "      <td>IndiGo</td>\n",
       "      <td>Kolkata</td>\n",
       "      <td>Banglore</td>\n",
       "      <td>CCU → BLR</td>\n",
       "      <td>150</td>\n",
       "      <td>non-stop</td>\n",
       "      <td>No info</td>\n",
       "      <td>5644</td>\n",
       "      <td>9</td>\n",
       "      <td>6</td>\n",
       "      <td>16</td>\n",
       "      <td>55</td>\n",
       "      <td>14</td>\n",
       "      <td>25</td>\n",
       "    </tr>\n",
       "    <tr>\n",
       "      <th>1</th>\n",
       "      <td>Vistara</td>\n",
       "      <td>Mumbai</td>\n",
       "      <td>Hyderabad</td>\n",
       "      <td>BOM → DEL → HYD</td>\n",
       "      <td>1480</td>\n",
       "      <td>1 stop</td>\n",
       "      <td>No info</td>\n",
       "      <td>12395</td>\n",
       "      <td>6</td>\n",
       "      <td>3</td>\n",
       "      <td>9</td>\n",
       "      <td>25</td>\n",
       "      <td>8</td>\n",
       "      <td>45</td>\n",
       "    </tr>\n",
       "    <tr>\n",
       "      <th>2</th>\n",
       "      <td>IndiGo</td>\n",
       "      <td>Banglore</td>\n",
       "      <td>Delhi</td>\n",
       "      <td>BLR → DEL</td>\n",
       "      <td>165</td>\n",
       "      <td>non-stop</td>\n",
       "      <td>No info</td>\n",
       "      <td>4077</td>\n",
       "      <td>3</td>\n",
       "      <td>4</td>\n",
       "      <td>8</td>\n",
       "      <td>50</td>\n",
       "      <td>6</td>\n",
       "      <td>5</td>\n",
       "    </tr>\n",
       "    <tr>\n",
       "      <th>3</th>\n",
       "      <td>Vistara</td>\n",
       "      <td>Kolkata</td>\n",
       "      <td>Banglore</td>\n",
       "      <td>CCU → DEL → BLR</td>\n",
       "      <td>385</td>\n",
       "      <td>1 stop</td>\n",
       "      <td>No info</td>\n",
       "      <td>8610</td>\n",
       "      <td>12</td>\n",
       "      <td>6</td>\n",
       "      <td>23</td>\n",
       "      <td>25</td>\n",
       "      <td>17</td>\n",
       "      <td>0</td>\n",
       "    </tr>\n",
       "    <tr>\n",
       "      <th>4</th>\n",
       "      <td>IndiGo</td>\n",
       "      <td>Banglore</td>\n",
       "      <td>New Delhi</td>\n",
       "      <td>BLR → DEL</td>\n",
       "      <td>175</td>\n",
       "      <td>non-stop</td>\n",
       "      <td>No info</td>\n",
       "      <td>10067</td>\n",
       "      <td>1</td>\n",
       "      <td>3</td>\n",
       "      <td>13</td>\n",
       "      <td>0</td>\n",
       "      <td>10</td>\n",
       "      <td>5</td>\n",
       "    </tr>\n",
       "  </tbody>\n",
       "</table>\n",
       "</div>"
      ],
      "text/plain": [
       "   Airline    Source Destination            Route Duration Total_Stops  \\\n",
       "0   IndiGo   Kolkata    Banglore        CCU → BLR      150    non-stop   \n",
       "1  Vistara    Mumbai   Hyderabad  BOM → DEL → HYD     1480      1 stop   \n",
       "2   IndiGo  Banglore       Delhi        BLR → DEL      165    non-stop   \n",
       "3  Vistara   Kolkata    Banglore  CCU → DEL → BLR      385      1 stop   \n",
       "4   IndiGo  Banglore   New Delhi        BLR → DEL      175    non-stop   \n",
       "\n",
       "  Additional_Info  Price  journey_day  journey_month  Arrival_Time_hour  \\\n",
       "0         No info   5644            9              6                 16   \n",
       "1         No info  12395            6              3                  9   \n",
       "2         No info   4077            3              4                  8   \n",
       "3         No info   8610           12              6                 23   \n",
       "4         No info  10067            1              3                 13   \n",
       "\n",
       "   Arrival_Time_min  Dep_Time_hour  Dep_Time_min  \n",
       "0                55             14            25  \n",
       "1                25              8            45  \n",
       "2                50              6             5  \n",
       "3                25             17             0  \n",
       "4                 0             10             5  "
      ]
     },
     "execution_count": 32,
     "metadata": {},
     "output_type": "execute_result"
    }
   ],
   "source": [
    "df.head()"
   ]
  },
  {
   "cell_type": "markdown",
   "id": "8aa5f743",
   "metadata": {},
   "source": [
    "# adding class column "
   ]
  },
  {
   "cell_type": "code",
   "execution_count": 33,
   "id": "54575650",
   "metadata": {},
   "outputs": [],
   "source": [
    "df['Airline']=df['Airline'].replace(to_replace=['Vistara Premium economy'],value='Vistara , Premium economy')\n",
    "new=df[\"Airline\"].str.split(' ',n=2,expand=True)\n",
    "new[2].value_counts()\n",
    "new[2]=new[2].fillna('economy')\n",
    "df['class']=new[2]"
   ]
  },
  {
   "cell_type": "code",
   "execution_count": 34,
   "id": "6507b140",
   "metadata": {},
   "outputs": [],
   "source": [
    "# adjusting Airline column\n",
    "df['Airline']=df['Airline'].replace(to_replace=['Vistara , Premium economy'],value='Vistara')\n",
    "df['Airline']=df['Airline'].replace(to_replace=['Multiple carriers Premium economy'],value='Multiple carriers')\n",
    "df['Airline']=df['Airline'].replace(to_replace=['Jet Airways Business'],value='Jet Airways')\n"
   ]
  },
  {
   "cell_type": "markdown",
   "id": "091c9204",
   "metadata": {},
   "source": [
    "# Data visualization "
   ]
  },
  {
   "cell_type": "markdown",
   "id": "1fef3ec2",
   "metadata": {},
   "source": [
    "# EDA question"
   ]
  },
  {
   "cell_type": "markdown",
   "id": "de61ce82",
   "metadata": {},
   "source": [
    "* which airline has the biggest number of flights?\n",
    "* Does price vary with airline?\n",
    "* Does the number of stops influences the price?\n",
    "* Does the price change with the duration of the flight?\n",
    "* which month has the biggest number of flights?\n",
    "* which month has the highest price?\n",
    "* What is the effect of additional info on prices based on companies?\n",
    "* which flights are the most expensive & the cheapest?"
   ]
  },
  {
   "cell_type": "markdown",
   "id": "d5e92d04",
   "metadata": {},
   "source": [
    "# which airline has the biggest number of flights?"
   ]
  },
  {
   "cell_type": "code",
   "execution_count": 35,
   "id": "ef9b10ba",
   "metadata": {},
   "outputs": [
    {
     "data": {
      "image/png": "[encoded data removed]",
      "text/plain": [
       "<Figure size 720x576 with 1 Axes>"
      ]
     },
     "metadata": {
      "needs_background": "light"
     },
     "output_type": "display_data"
    }
   ],
   "source": [
    "plt.figure(figsize=(10,8))\n",
    "sns.countplot(df['Airline'],palette='Blues_r',order=df['Airline'].value_counts().index)\n",
    "plt.title('Number of flights for each company',fontsize=15)\n",
    "plt.xlabel('Airline',fontsize=15)\n",
    "plt.ylabel('flights',fontsize=15)\n",
    "plt.xticks(rotation=90)\n",
    "plt.show()"
   ]
  },
  {
   "cell_type": "markdown",
   "id": "48fb6eb8",
   "metadata": {},
   "source": [
    " Jet Airways has the biggest number of flights"
   ]
  },
  {
   "cell_type": "markdown",
   "id": "e46fd5f3",
   "metadata": {},
   "source": [
    "# Does price vary with airline?"
   ]
  },
  {
   "cell_type": "markdown",
   "id": "56a84976",
   "metadata": {},
   "source": [
    "we noticed that airline column has some airlines that their tickets for business or premium economy class, so we will only compare the same kind of tickets"
   ]
  },
  {
   "cell_type": "code",
   "execution_count": 36,
   "id": "2b2b85d8",
   "metadata": {},
   "outputs": [
    {
     "data": {
      "text/html": [
       "<div>\n",
       "<style scoped>\n",
       "    .dataframe tbody tr th:only-of-type {\n",
       "        vertical-align: middle;\n",
       "    }\n",
       "\n",
       "    .dataframe tbody tr th {\n",
       "        vertical-align: top;\n",
       "    }\n",
       "\n",
       "    .dataframe thead th {\n",
       "        text-align: right;\n",
       "    }\n",
       "</style>\n",
       "<table border=\"1\" class=\"dataframe\">\n",
       "  <thead>\n",
       "    <tr style=\"text-align: right;\">\n",
       "      <th></th>\n",
       "      <th>Airline</th>\n",
       "      <th>class</th>\n",
       "      <th>Price</th>\n",
       "    </tr>\n",
       "  </thead>\n",
       "  <tbody>\n",
       "    <tr>\n",
       "      <th>8</th>\n",
       "      <td>SpiceJet</td>\n",
       "      <td>economy</td>\n",
       "      <td>4358.511551</td>\n",
       "    </tr>\n",
       "    <tr>\n",
       "      <th>0</th>\n",
       "      <td>Air Asia</td>\n",
       "      <td>economy</td>\n",
       "      <td>5573.275304</td>\n",
       "    </tr>\n",
       "    <tr>\n",
       "      <th>3</th>\n",
       "      <td>IndiGo</td>\n",
       "      <td>economy</td>\n",
       "      <td>5682.953564</td>\n",
       "    </tr>\n",
       "    <tr>\n",
       "      <th>2</th>\n",
       "      <td>GoAir</td>\n",
       "      <td>economy</td>\n",
       "      <td>5733.677632</td>\n",
       "    </tr>\n",
       "    <tr>\n",
       "      <th>10</th>\n",
       "      <td>Vistara</td>\n",
       "      <td>economy</td>\n",
       "      <td>7837.025568</td>\n",
       "    </tr>\n",
       "    <tr>\n",
       "      <th>9</th>\n",
       "      <td>Vistara</td>\n",
       "      <td>Premium economy</td>\n",
       "      <td>8962.333333</td>\n",
       "    </tr>\n",
       "    <tr>\n",
       "      <th>1</th>\n",
       "      <td>Air India</td>\n",
       "      <td>economy</td>\n",
       "      <td>9595.621260</td>\n",
       "    </tr>\n",
       "    <tr>\n",
       "      <th>7</th>\n",
       "      <td>Multiple carriers</td>\n",
       "      <td>economy</td>\n",
       "      <td>10830.735005</td>\n",
       "    </tr>\n",
       "    <tr>\n",
       "      <th>6</th>\n",
       "      <td>Multiple carriers</td>\n",
       "      <td>Premium economy</td>\n",
       "      <td>10989.000000</td>\n",
       "    </tr>\n",
       "    <tr>\n",
       "      <th>5</th>\n",
       "      <td>Jet Airways</td>\n",
       "      <td>economy</td>\n",
       "      <td>11516.620665</td>\n",
       "    </tr>\n",
       "    <tr>\n",
       "      <th>4</th>\n",
       "      <td>Jet Airways</td>\n",
       "      <td>Business</td>\n",
       "      <td>22906.000000</td>\n",
       "    </tr>\n",
       "  </tbody>\n",
       "</table>\n",
       "</div>"
      ],
      "text/plain": [
       "              Airline            class         Price\n",
       "8            SpiceJet          economy   4358.511551\n",
       "0            Air Asia          economy   5573.275304\n",
       "3              IndiGo          economy   5682.953564\n",
       "2               GoAir          economy   5733.677632\n",
       "10            Vistara          economy   7837.025568\n",
       "9             Vistara  Premium economy   8962.333333\n",
       "1           Air India          economy   9595.621260\n",
       "7   Multiple carriers          economy  10830.735005\n",
       "6   Multiple carriers  Premium economy  10989.000000\n",
       "5         Jet Airways          economy  11516.620665\n",
       "4         Jet Airways         Business  22906.000000"
      ]
     },
     "execution_count": 36,
     "metadata": {},
     "output_type": "execute_result"
    }
   ],
   "source": [
    "Airline_meanPrices=df.groupby(['Airline','class'])['Price'].mean().reset_index()\n",
    "Airline_meanPrices.sort_values(by=['Price'])"
   ]
  },
  {
   "cell_type": "markdown",
   "id": "38261a78",
   "metadata": {},
   "source": [
    "Jet airway seems to have the highest prices for economy and business"
   ]
  },
  {
   "cell_type": "code",
   "execution_count": 37,
   "id": "6c0095e5",
   "metadata": {},
   "outputs": [
    {
     "data": {
      "image/png": "[encoded data removed]",
      "text/plain": [
       "<Figure size 1440x720 with 1 Axes>"
      ]
     },
     "metadata": {
      "needs_background": "light"
     },
     "output_type": "display_data"
    }
   ],
   "source": [
    "plt.figure(figsize=(20, 10))\n",
    "sns.barplot(x='Airline',y='Price',hue=\"class\",data=Airline_meanPrices.sort_values(\"Price\"),palette='Blues_r').set_title('Airline average prices based on the class and company',fontsize=20)\n",
    "plt.xlabel('Airline',fontsize=15)\n",
    "plt.ylabel('Price',fontsize=15)\n",
    "plt.show()"
   ]
  },
  {
   "cell_type": "markdown",
   "id": "d460bea6",
   "metadata": {},
   "source": [
    "* Business flights are only available in Jet airways\n",
    "* Premium economy flights are only available in vistara and Multiple carriers\n",
    "* there is a big gap between the prices in the two class(business and economy) in jet airrways\n",
    "* there is slight difference between premium economy and economy in vistara and multiple carriers\n",
    "* jet airways has the highest prices and spicejet is the cheapest"
   ]
  },
  {
   "cell_type": "markdown",
   "id": "4adee242",
   "metadata": {},
   "source": [
    "# Does the number of stops influences the price?\n",
    "we will compare the same kind of tickets "
   ]
  },
  {
   "cell_type": "code",
   "execution_count": 38,
   "id": "a1fff510",
   "metadata": {},
   "outputs": [
    {
     "data": {
      "text/html": [
       "<div>\n",
       "<style scoped>\n",
       "    .dataframe tbody tr th:only-of-type {\n",
       "        vertical-align: middle;\n",
       "    }\n",
       "\n",
       "    .dataframe tbody tr th {\n",
       "        vertical-align: top;\n",
       "    }\n",
       "\n",
       "    .dataframe thead th {\n",
       "        text-align: right;\n",
       "    }\n",
       "</style>\n",
       "<table border=\"1\" class=\"dataframe\">\n",
       "  <thead>\n",
       "    <tr style=\"text-align: right;\">\n",
       "      <th></th>\n",
       "      <th>Airline</th>\n",
       "      <th>Total_Stops</th>\n",
       "      <th>class</th>\n",
       "      <th>Price</th>\n",
       "    </tr>\n",
       "  </thead>\n",
       "  <tbody>\n",
       "    <tr>\n",
       "      <th>23</th>\n",
       "      <td>SpiceJet</td>\n",
       "      <td>non-stop</td>\n",
       "      <td>economy</td>\n",
       "      <td>3791.558704</td>\n",
       "    </tr>\n",
       "    <tr>\n",
       "      <th>2</th>\n",
       "      <td>Air Asia</td>\n",
       "      <td>non-stop</td>\n",
       "      <td>economy</td>\n",
       "      <td>4538.964029</td>\n",
       "    </tr>\n",
       "    <tr>\n",
       "      <th>12</th>\n",
       "      <td>IndiGo</td>\n",
       "      <td>non-stop</td>\n",
       "      <td>economy</td>\n",
       "      <td>4696.983498</td>\n",
       "    </tr>\n",
       "    <tr>\n",
       "      <th>9</th>\n",
       "      <td>GoAir</td>\n",
       "      <td>non-stop</td>\n",
       "      <td>economy</td>\n",
       "      <td>4770.068493</td>\n",
       "    </tr>\n",
       "    <tr>\n",
       "      <th>7</th>\n",
       "      <td>Air India</td>\n",
       "      <td>non-stop</td>\n",
       "      <td>economy</td>\n",
       "      <td>5550.659864</td>\n",
       "    </tr>\n",
       "    <tr>\n",
       "      <th>17</th>\n",
       "      <td>Jet Airways</td>\n",
       "      <td>non-stop</td>\n",
       "      <td>economy</td>\n",
       "      <td>6257.410480</td>\n",
       "    </tr>\n",
       "    <tr>\n",
       "      <th>1</th>\n",
       "      <td>Air Asia</td>\n",
       "      <td>2 stops</td>\n",
       "      <td>economy</td>\n",
       "      <td>6341.888889</td>\n",
       "    </tr>\n",
       "    <tr>\n",
       "      <th>26</th>\n",
       "      <td>Vistara</td>\n",
       "      <td>non-stop</td>\n",
       "      <td>economy</td>\n",
       "      <td>6353.720812</td>\n",
       "    </tr>\n",
       "    <tr>\n",
       "      <th>8</th>\n",
       "      <td>GoAir</td>\n",
       "      <td>1 stop</td>\n",
       "      <td>economy</td>\n",
       "      <td>6624.101266</td>\n",
       "    </tr>\n",
       "    <tr>\n",
       "      <th>22</th>\n",
       "      <td>SpiceJet</td>\n",
       "      <td>1 stop</td>\n",
       "      <td>economy</td>\n",
       "      <td>6859.178571</td>\n",
       "    </tr>\n",
       "    <tr>\n",
       "      <th>0</th>\n",
       "      <td>Air Asia</td>\n",
       "      <td>1 stop</td>\n",
       "      <td>economy</td>\n",
       "      <td>6955.616162</td>\n",
       "    </tr>\n",
       "    <tr>\n",
       "      <th>10</th>\n",
       "      <td>IndiGo</td>\n",
       "      <td>1 stop</td>\n",
       "      <td>economy</td>\n",
       "      <td>7116.301325</td>\n",
       "    </tr>\n",
       "    <tr>\n",
       "      <th>11</th>\n",
       "      <td>IndiGo</td>\n",
       "      <td>2 stops</td>\n",
       "      <td>economy</td>\n",
       "      <td>7589.500000</td>\n",
       "    </tr>\n",
       "    <tr>\n",
       "      <th>3</th>\n",
       "      <td>Air India</td>\n",
       "      <td>1 stop</td>\n",
       "      <td>economy</td>\n",
       "      <td>9070.552885</td>\n",
       "    </tr>\n",
       "    <tr>\n",
       "      <th>24</th>\n",
       "      <td>Vistara</td>\n",
       "      <td>1 stop</td>\n",
       "      <td>economy</td>\n",
       "      <td>9722.258065</td>\n",
       "    </tr>\n",
       "    <tr>\n",
       "      <th>19</th>\n",
       "      <td>Multiple carriers</td>\n",
       "      <td>1 stop</td>\n",
       "      <td>economy</td>\n",
       "      <td>10667.739477</td>\n",
       "    </tr>\n",
       "    <tr>\n",
       "      <th>4</th>\n",
       "      <td>Air India</td>\n",
       "      <td>2 stops</td>\n",
       "      <td>economy</td>\n",
       "      <td>12090.302064</td>\n",
       "    </tr>\n",
       "    <tr>\n",
       "      <th>5</th>\n",
       "      <td>Air India</td>\n",
       "      <td>3 stops</td>\n",
       "      <td>economy</td>\n",
       "      <td>12283.769231</td>\n",
       "    </tr>\n",
       "    <tr>\n",
       "      <th>14</th>\n",
       "      <td>Jet Airways</td>\n",
       "      <td>1 stop</td>\n",
       "      <td>economy</td>\n",
       "      <td>12323.215553</td>\n",
       "    </tr>\n",
       "    <tr>\n",
       "      <th>16</th>\n",
       "      <td>Jet Airways</td>\n",
       "      <td>2 stops</td>\n",
       "      <td>economy</td>\n",
       "      <td>13557.477541</td>\n",
       "    </tr>\n",
       "    <tr>\n",
       "      <th>20</th>\n",
       "      <td>Multiple carriers</td>\n",
       "      <td>2 stops</td>\n",
       "      <td>economy</td>\n",
       "      <td>13985.843750</td>\n",
       "    </tr>\n",
       "    <tr>\n",
       "      <th>6</th>\n",
       "      <td>Air India</td>\n",
       "      <td>4 stops</td>\n",
       "      <td>economy</td>\n",
       "      <td>17686.000000</td>\n",
       "    </tr>\n",
       "    <tr>\n",
       "      <th>21</th>\n",
       "      <td>Multiple carriers</td>\n",
       "      <td>3 stops</td>\n",
       "      <td>economy</td>\n",
       "      <td>17882.333333</td>\n",
       "    </tr>\n",
       "  </tbody>\n",
       "</table>\n",
       "</div>"
      ],
      "text/plain": [
       "              Airline Total_Stops    class         Price\n",
       "23           SpiceJet    non-stop  economy   3791.558704\n",
       "2            Air Asia    non-stop  economy   4538.964029\n",
       "12             IndiGo    non-stop  economy   4696.983498\n",
       "9               GoAir    non-stop  economy   4770.068493\n",
       "7           Air India    non-stop  economy   5550.659864\n",
       "17        Jet Airways    non-stop  economy   6257.410480\n",
       "1            Air Asia     2 stops  economy   6341.888889\n",
       "26            Vistara    non-stop  economy   6353.720812\n",
       "8               GoAir      1 stop  economy   6624.101266\n",
       "22           SpiceJet      1 stop  economy   6859.178571\n",
       "0            Air Asia      1 stop  economy   6955.616162\n",
       "10             IndiGo      1 stop  economy   7116.301325\n",
       "11             IndiGo     2 stops  economy   7589.500000\n",
       "3           Air India      1 stop  economy   9070.552885\n",
       "24            Vistara      1 stop  economy   9722.258065\n",
       "19  Multiple carriers      1 stop  economy  10667.739477\n",
       "4           Air India     2 stops  economy  12090.302064\n",
       "5           Air India     3 stops  economy  12283.769231\n",
       "14        Jet Airways      1 stop  economy  12323.215553\n",
       "16        Jet Airways     2 stops  economy  13557.477541\n",
       "20  Multiple carriers     2 stops  economy  13985.843750\n",
       "6           Air India     4 stops  economy  17686.000000\n",
       "21  Multiple carriers     3 stops  economy  17882.333333"
      ]
     },
     "execution_count": 38,
     "metadata": {},
     "output_type": "execute_result"
    }
   ],
   "source": [
    "# making data frame for economy tickits\n",
    "df3=df.groupby(['Airline','Total_Stops','class'])['Price'].aggregate('mean').reset_index()\n",
    "df4=df3.loc[df3['class']=='economy']\n",
    "df4.sort_values(by=['Price'])"
   ]
  },
  {
   "cell_type": "code",
   "execution_count": 39,
   "id": "7b469349",
   "metadata": {},
   "outputs": [
    {
     "data": {
      "image/png": "[encoded data removed]",
      "text/plain": [
       "<Figure size 1080x720 with 1 Axes>"
      ]
     },
     "metadata": {
      "needs_background": "light"
     },
     "output_type": "display_data"
    }
   ],
   "source": [
    "plt.figure(figsize=(15,10))\n",
    "ax=sns.barplot(y = \"Price\", x = \"Airline\",hue=\"Total_Stops\",data =df4.sort_values(\"Price\"),palette='Blues_r')\n",
    "plt.title(\"Airline mean prices based on the number of stops  for economy\",fontsize=18)\n",
    "plt.xticks(rotation=90)\n",
    "plt.show()"
   ]
  },
  {
   "cell_type": "markdown",
   "id": "e6c6b1d0",
   "metadata": {},
   "source": [
    "* non_stops have the lowest price in all companies\n",
    "* prices seem don't depend on number of stops"
   ]
  },
  {
   "cell_type": "code",
   "execution_count": 40,
   "id": "31860740",
   "metadata": {},
   "outputs": [
    {
     "data": {
      "text/html": [
       "<div>\n",
       "<style scoped>\n",
       "    .dataframe tbody tr th:only-of-type {\n",
       "        vertical-align: middle;\n",
       "    }\n",
       "\n",
       "    .dataframe tbody tr th {\n",
       "        vertical-align: top;\n",
       "    }\n",
       "\n",
       "    .dataframe thead th {\n",
       "        text-align: right;\n",
       "    }\n",
       "</style>\n",
       "<table border=\"1\" class=\"dataframe\">\n",
       "  <thead>\n",
       "    <tr style=\"text-align: right;\">\n",
       "      <th></th>\n",
       "      <th>Airline</th>\n",
       "      <th>Total_Stops</th>\n",
       "      <th>class</th>\n",
       "      <th>Price</th>\n",
       "    </tr>\n",
       "  </thead>\n",
       "  <tbody>\n",
       "    <tr>\n",
       "      <th>25</th>\n",
       "      <td>Vistara</td>\n",
       "      <td>non-stop</td>\n",
       "      <td>Premium economy</td>\n",
       "      <td>8962.333333</td>\n",
       "    </tr>\n",
       "    <tr>\n",
       "      <th>18</th>\n",
       "      <td>Multiple carriers</td>\n",
       "      <td>1 stop</td>\n",
       "      <td>Premium economy</td>\n",
       "      <td>10989.000000</td>\n",
       "    </tr>\n",
       "    <tr>\n",
       "      <th>13</th>\n",
       "      <td>Jet Airways</td>\n",
       "      <td>1 stop</td>\n",
       "      <td>Business</td>\n",
       "      <td>22906.000000</td>\n",
       "    </tr>\n",
       "    <tr>\n",
       "      <th>15</th>\n",
       "      <td>Jet Airways</td>\n",
       "      <td>2 stops</td>\n",
       "      <td>Business</td>\n",
       "      <td>22906.000000</td>\n",
       "    </tr>\n",
       "  </tbody>\n",
       "</table>\n",
       "</div>"
      ],
      "text/plain": [
       "              Airline Total_Stops            class         Price\n",
       "25            Vistara    non-stop  Premium economy   8962.333333\n",
       "18  Multiple carriers      1 stop  Premium economy  10989.000000\n",
       "13        Jet Airways      1 stop         Business  22906.000000\n",
       "15        Jet Airways     2 stops         Business  22906.000000"
      ]
     },
     "execution_count": 40,
     "metadata": {},
     "output_type": "execute_result"
    }
   ],
   "source": [
    "# making data frame for higher classes\n",
    "df5=df3.loc[(df3['class']!='economy')]\n",
    "df5.sort_values(by=['Price'])"
   ]
  },
  {
   "cell_type": "code",
   "execution_count": 41,
   "id": "99af7b32",
   "metadata": {},
   "outputs": [
    {
     "data": {
      "image/png": "[encoded data removed]",
      "text/plain": [
       "<Figure size 720x576 with 1 Axes>"
      ]
     },
     "metadata": {
      "needs_background": "light"
     },
     "output_type": "display_data"
    }
   ],
   "source": [
    "plt.figure(figsize=(10,8))\n",
    "ax=sns.barplot(y = \"Price\", x = \"Airline\",hue=\"Total_Stops\",data =df5.sort_values(by=['Price']),palette='Blues_r')\n",
    "plt.title(\"Airline prices based on the number of stops  for higher class\",fontsize=18)\n",
    "plt.show()"
   ]
  },
  {
   "cell_type": "markdown",
   "id": "135dbd18",
   "metadata": {},
   "source": [
    "* number of stops don't affect Jet AirWays prices"
   ]
  },
  {
   "cell_type": "markdown",
   "id": "0909e4e1",
   "metadata": {},
   "source": [
    "# Does ticket price change based on the departure time and arrival time?"
   ]
  },
  {
   "cell_type": "code",
   "execution_count": 42,
   "id": "0203b96e",
   "metadata": {},
   "outputs": [],
   "source": [
    "# we will devide the departure time and arrival time into categories\n",
    "df['Dep_Time_h']=pd.cut(x=df['Dep_Time_hour'], bins=[0,5,12,17,23],labels=['night','moarning','after noon','evening'])\n",
    "df['Arrival_Time_h']=pd.cut(x=df['Arrival_Time_hour'], bins=[0,5,12,18,23],labels=['night','moarning','after noon','evening'])"
   ]
  },
  {
   "cell_type": "code",
   "execution_count": 43,
   "id": "78990291",
   "metadata": {},
   "outputs": [
    {
     "data": {
      "text/plain": [
       "Text(0.5, 1.0, 'Airline prices based on the arrival time')"
      ]
     },
     "execution_count": 43,
     "metadata": {},
     "output_type": "execute_result"
    },
    {
     "data": {
      "image/png": "[encoded data removed]",
      "text/plain": [
       "<Figure size 1800x1440 with 2 Axes>"
      ]
     },
     "metadata": {
      "needs_background": "light"
     },
     "output_type": "display_data"
    }
   ],
   "source": [
    "plt.figure(figsize = (25,20))\n",
    "plt.subplot(1,2,1)\n",
    "sns.barplot(data=df, y=\"Price\", x=\"Dep_Time_h\",palette='Blues_r').set_title(\"Airline prices based on the departure time\",fontsize=15)\n",
    "plt.subplot(1,2,2)\n",
    "sns.barplot(data=df, y=\"Price\", x=\"Arrival_Time_h\",palette='Blues_r').set_title(\"Airline prices based on the arrival time\",fontsize=15)"
   ]
  },
  {
   "cell_type": "markdown",
   "id": "8ed5401d",
   "metadata": {},
   "source": [
    " leaving at night is the cheapest way to travel. But it's also visible that arriving morning and afternoon is also cheap."
   ]
  },
  {
   "cell_type": "markdown",
   "id": "74ee91ea",
   "metadata": {},
   "source": [
    "# Does the price change with the duration of the flight?"
   ]
  },
  {
   "cell_type": "code",
   "execution_count": 44,
   "id": "3811aee1",
   "metadata": {},
   "outputs": [
    {
     "data": {
      "image/png": "[encoded data removed]",
      "text/plain": [
       "<Figure size 1080x432 with 1 Axes>"
      ]
     },
     "metadata": {
      "needs_background": "light"
     },
     "output_type": "display_data"
    }
   ],
   "source": [
    "df2= df.groupby(['Duration','class'])['Price'].mean().reset_index()\n",
    "df7=df2.loc[df2['class']=='economy']\n",
    "plt.figure(figsize=(15,6))\n",
    "ax = sns.scatterplot(x=\"Duration\", y=\"Price\",hue='class', data=df2).set_title(\"price depending on the duration\",fontsize=15)"
   ]
  },
  {
   "cell_type": "code",
   "execution_count": 45,
   "id": "29a1ec57",
   "metadata": {},
   "outputs": [
    {
     "data": {
      "image/png": "[encoded data removed]",
      "text/plain": [
       "<Figure size 1080x432 with 1 Axes>"
      ]
     },
     "metadata": {
      "needs_background": "light"
     },
     "output_type": "display_data"
    }
   ],
   "source": [
    "plt.figure(figsize=(15,6))\n",
    "ax = sns.scatterplot(x=\"Duration\", y=\"Price\", data=df2).set_title(\" mean prices depending on the duration\",fontsize=15)\n",
    "ax = sns.regplot(x=\"Duration\", y=\"Price\", data=df7,order=3)"
   ]
  },
  {
   "cell_type": "markdown",
   "id": "686abd8e",
   "metadata": {},
   "source": [
    "It is clear that here the relationship is not linear.However some outliers seem to affect the regression curve. prices begin to get higher at 500 minuts and get lower and higher again  "
   ]
  },
  {
   "cell_type": "markdown",
   "id": "66e6593d",
   "metadata": {},
   "source": [
    "# which month has the biggest number of flights?"
   ]
  },
  {
   "cell_type": "code",
   "execution_count": 46,
   "id": "aa3c154c",
   "metadata": {},
   "outputs": [
    {
     "data": {
      "text/plain": [
       "5    2572\n",
       "6    2485\n",
       "3    2033\n",
       "4     794\n",
       "Name: journey_month, dtype: int64"
      ]
     },
     "execution_count": 46,
     "metadata": {},
     "output_type": "execute_result"
    }
   ],
   "source": [
    "buzMonth=df['journey_month'].value_counts()\n",
    "buzMonth"
   ]
  },
  {
   "cell_type": "markdown",
   "id": "b57848b6",
   "metadata": {},
   "source": [
    "May has the biggest number of flights"
   ]
  },
  {
   "cell_type": "markdown",
   "id": "f2e1bda9",
   "metadata": {},
   "source": [
    "# which month has the highest price?"
   ]
  },
  {
   "cell_type": "code",
   "execution_count": 47,
   "id": "f5c74e26",
   "metadata": {},
   "outputs": [
    {
     "data": {
      "text/html": [
       "<div>\n",
       "<style scoped>\n",
       "    .dataframe tbody tr th:only-of-type {\n",
       "        vertical-align: middle;\n",
       "    }\n",
       "\n",
       "    .dataframe tbody tr th {\n",
       "        vertical-align: top;\n",
       "    }\n",
       "\n",
       "    .dataframe thead th {\n",
       "        text-align: right;\n",
       "    }\n",
       "</style>\n",
       "<table border=\"1\" class=\"dataframe\">\n",
       "  <thead>\n",
       "    <tr style=\"text-align: right;\">\n",
       "      <th></th>\n",
       "      <th>journey_month</th>\n",
       "      <th>Airline</th>\n",
       "      <th>Price</th>\n",
       "    </tr>\n",
       "  </thead>\n",
       "  <tbody>\n",
       "    <tr>\n",
       "      <th>30</th>\n",
       "      <td>6</td>\n",
       "      <td>SpiceJet</td>\n",
       "      <td>3980.124260</td>\n",
       "    </tr>\n",
       "    <tr>\n",
       "      <th>22</th>\n",
       "      <td>5</td>\n",
       "      <td>SpiceJet</td>\n",
       "      <td>4074.105820</td>\n",
       "    </tr>\n",
       "    <tr>\n",
       "      <th>14</th>\n",
       "      <td>4</td>\n",
       "      <td>SpiceJet</td>\n",
       "      <td>4199.126050</td>\n",
       "    </tr>\n",
       "    <tr>\n",
       "      <th>11</th>\n",
       "      <td>4</td>\n",
       "      <td>IndiGo</td>\n",
       "      <td>4729.392694</td>\n",
       "    </tr>\n",
       "    <tr>\n",
       "      <th>8</th>\n",
       "      <td>4</td>\n",
       "      <td>Air Asia</td>\n",
       "      <td>4880.100000</td>\n",
       "    </tr>\n",
       "    <tr>\n",
       "      <th>26</th>\n",
       "      <td>6</td>\n",
       "      <td>GoAir</td>\n",
       "      <td>4925.560000</td>\n",
       "    </tr>\n",
       "    <tr>\n",
       "      <th>10</th>\n",
       "      <td>4</td>\n",
       "      <td>GoAir</td>\n",
       "      <td>4935.096774</td>\n",
       "    </tr>\n",
       "    <tr>\n",
       "      <th>27</th>\n",
       "      <td>6</td>\n",
       "      <td>IndiGo</td>\n",
       "      <td>5155.787554</td>\n",
       "    </tr>\n",
       "    <tr>\n",
       "      <th>16</th>\n",
       "      <td>5</td>\n",
       "      <td>Air Asia</td>\n",
       "      <td>5183.783133</td>\n",
       "    </tr>\n",
       "    <tr>\n",
       "      <th>19</th>\n",
       "      <td>5</td>\n",
       "      <td>IndiGo</td>\n",
       "      <td>5256.570093</td>\n",
       "    </tr>\n",
       "    <tr>\n",
       "      <th>6</th>\n",
       "      <td>3</td>\n",
       "      <td>SpiceJet</td>\n",
       "      <td>5417.945736</td>\n",
       "    </tr>\n",
       "    <tr>\n",
       "      <th>18</th>\n",
       "      <td>5</td>\n",
       "      <td>GoAir</td>\n",
       "      <td>5706.125000</td>\n",
       "    </tr>\n",
       "    <tr>\n",
       "      <th>0</th>\n",
       "      <td>3</td>\n",
       "      <td>Air Asia</td>\n",
       "      <td>5927.854167</td>\n",
       "    </tr>\n",
       "    <tr>\n",
       "      <th>24</th>\n",
       "      <td>6</td>\n",
       "      <td>Air Asia</td>\n",
       "      <td>6139.526316</td>\n",
       "    </tr>\n",
       "    <tr>\n",
       "      <th>15</th>\n",
       "      <td>4</td>\n",
       "      <td>Vistara</td>\n",
       "      <td>6327.642857</td>\n",
       "    </tr>\n",
       "    <tr>\n",
       "      <th>9</th>\n",
       "      <td>4</td>\n",
       "      <td>Air India</td>\n",
       "      <td>6329.214286</td>\n",
       "    </tr>\n",
       "    <tr>\n",
       "      <th>31</th>\n",
       "      <td>6</td>\n",
       "      <td>Vistara</td>\n",
       "      <td>6892.719512</td>\n",
       "    </tr>\n",
       "    <tr>\n",
       "      <th>3</th>\n",
       "      <td>3</td>\n",
       "      <td>IndiGo</td>\n",
       "      <td>7214.158654</td>\n",
       "    </tr>\n",
       "    <tr>\n",
       "      <th>23</th>\n",
       "      <td>5</td>\n",
       "      <td>Vistara</td>\n",
       "      <td>7590.257812</td>\n",
       "    </tr>\n",
       "    <tr>\n",
       "      <th>12</th>\n",
       "      <td>4</td>\n",
       "      <td>Jet Airways</td>\n",
       "      <td>7763.258537</td>\n",
       "    </tr>\n",
       "    <tr>\n",
       "      <th>2</th>\n",
       "      <td>3</td>\n",
       "      <td>GoAir</td>\n",
       "      <td>7871.225806</td>\n",
       "    </tr>\n",
       "    <tr>\n",
       "      <th>13</th>\n",
       "      <td>4</td>\n",
       "      <td>Multiple carriers</td>\n",
       "      <td>8501.916667</td>\n",
       "    </tr>\n",
       "    <tr>\n",
       "      <th>25</th>\n",
       "      <td>6</td>\n",
       "      <td>Air India</td>\n",
       "      <td>9354.427326</td>\n",
       "    </tr>\n",
       "    <tr>\n",
       "      <th>17</th>\n",
       "      <td>5</td>\n",
       "      <td>Air India</td>\n",
       "      <td>9703.471963</td>\n",
       "    </tr>\n",
       "    <tr>\n",
       "      <th>21</th>\n",
       "      <td>5</td>\n",
       "      <td>Multiple carriers</td>\n",
       "      <td>9998.065693</td>\n",
       "    </tr>\n",
       "    <tr>\n",
       "      <th>7</th>\n",
       "      <td>3</td>\n",
       "      <td>Vistara</td>\n",
       "      <td>10049.617978</td>\n",
       "    </tr>\n",
       "    <tr>\n",
       "      <th>29</th>\n",
       "      <td>6</td>\n",
       "      <td>Multiple carriers</td>\n",
       "      <td>10372.407311</td>\n",
       "    </tr>\n",
       "    <tr>\n",
       "      <th>1</th>\n",
       "      <td>3</td>\n",
       "      <td>Air India</td>\n",
       "      <td>10638.751295</td>\n",
       "    </tr>\n",
       "    <tr>\n",
       "      <th>28</th>\n",
       "      <td>6</td>\n",
       "      <td>Jet Airways</td>\n",
       "      <td>11207.938798</td>\n",
       "    </tr>\n",
       "    <tr>\n",
       "      <th>20</th>\n",
       "      <td>5</td>\n",
       "      <td>Jet Airways</td>\n",
       "      <td>11534.101796</td>\n",
       "    </tr>\n",
       "    <tr>\n",
       "      <th>5</th>\n",
       "      <td>3</td>\n",
       "      <td>Multiple carriers</td>\n",
       "      <td>12521.761719</td>\n",
       "    </tr>\n",
       "    <tr>\n",
       "      <th>4</th>\n",
       "      <td>3</td>\n",
       "      <td>Jet Airways</td>\n",
       "      <td>13092.631268</td>\n",
       "    </tr>\n",
       "  </tbody>\n",
       "</table>\n",
       "</div>"
      ],
      "text/plain": [
       "    journey_month            Airline         Price\n",
       "30              6           SpiceJet   3980.124260\n",
       "22              5           SpiceJet   4074.105820\n",
       "14              4           SpiceJet   4199.126050\n",
       "11              4             IndiGo   4729.392694\n",
       "8               4           Air Asia   4880.100000\n",
       "26              6              GoAir   4925.560000\n",
       "10              4              GoAir   4935.096774\n",
       "27              6             IndiGo   5155.787554\n",
       "16              5           Air Asia   5183.783133\n",
       "19              5             IndiGo   5256.570093\n",
       "6               3           SpiceJet   5417.945736\n",
       "18              5              GoAir   5706.125000\n",
       "0               3           Air Asia   5927.854167\n",
       "24              6           Air Asia   6139.526316\n",
       "15              4            Vistara   6327.642857\n",
       "9               4          Air India   6329.214286\n",
       "31              6            Vistara   6892.719512\n",
       "3               3             IndiGo   7214.158654\n",
       "23              5            Vistara   7590.257812\n",
       "12              4        Jet Airways   7763.258537\n",
       "2               3              GoAir   7871.225806\n",
       "13              4  Multiple carriers   8501.916667\n",
       "25              6          Air India   9354.427326\n",
       "17              5          Air India   9703.471963\n",
       "21              5  Multiple carriers   9998.065693\n",
       "7               3            Vistara  10049.617978\n",
       "29              6  Multiple carriers  10372.407311\n",
       "1               3          Air India  10638.751295\n",
       "28              6        Jet Airways  11207.938798\n",
       "20              5        Jet Airways  11534.101796\n",
       "5               3  Multiple carriers  12521.761719\n",
       "4               3        Jet Airways  13092.631268"
      ]
     },
     "execution_count": 47,
     "metadata": {},
     "output_type": "execute_result"
    }
   ],
   "source": [
    "mean_price_inmonth=df.groupby(['journey_month','Airline'])['Price'].mean().reset_index()\n",
    "mean_price_inmonth.sort_values('Price')"
   ]
  },
  {
   "cell_type": "code",
   "execution_count": 48,
   "id": "ba8c8ed7",
   "metadata": {},
   "outputs": [
    {
     "data": {
      "image/png": "[encoded data removed]",
      "text/plain": [
       "<Figure size 1080x720 with 1 Axes>"
      ]
     },
     "metadata": {
      "needs_background": "light"
     },
     "output_type": "display_data"
    }
   ],
   "source": [
    "plt.figure(figsize=(15,10))\n",
    "sns.barplot(y = \"Price\", x = \"Airline\",hue= 'journey_month',data =df,palette='Blues_r')\n",
    "plt.title(\"Prices based on company and month\",fontsize=20)\n",
    "plt.show()"
   ]
  },
  {
   "cell_type": "markdown",
   "id": "d4153a36",
   "metadata": {},
   "source": [
    "* March is the most expensive month for all companies except Air Asia(June month)\n",
    "* April is the cheapet month for all companies except spicejet(june month)"
   ]
  },
  {
   "cell_type": "markdown",
   "id": "ec129675",
   "metadata": {},
   "source": [
    "# What is the effect of additional info on prices based on companies?"
   ]
  },
  {
   "cell_type": "code",
   "execution_count": 49,
   "id": "d1902d8c",
   "metadata": {},
   "outputs": [
    {
     "data": {
      "text/html": [
       "<div>\n",
       "<style scoped>\n",
       "    .dataframe tbody tr th:only-of-type {\n",
       "        vertical-align: middle;\n",
       "    }\n",
       "\n",
       "    .dataframe tbody tr th {\n",
       "        vertical-align: top;\n",
       "    }\n",
       "\n",
       "    .dataframe thead th {\n",
       "        text-align: right;\n",
       "    }\n",
       "</style>\n",
       "<table border=\"1\" class=\"dataframe\">\n",
       "  <thead>\n",
       "    <tr style=\"text-align: right;\">\n",
       "      <th></th>\n",
       "      <th>Additional_Info</th>\n",
       "      <th>Airline</th>\n",
       "      <th>Price</th>\n",
       "    </tr>\n",
       "  </thead>\n",
       "  <tbody>\n",
       "    <tr>\n",
       "      <th>10</th>\n",
       "      <td>No check-in baggage included</td>\n",
       "      <td>SpiceJet</td>\n",
       "      <td>3618.289157</td>\n",
       "    </tr>\n",
       "    <tr>\n",
       "      <th>17</th>\n",
       "      <td>No info</td>\n",
       "      <td>SpiceJet</td>\n",
       "      <td>4866.741573</td>\n",
       "    </tr>\n",
       "    <tr>\n",
       "      <th>11</th>\n",
       "      <td>No info</td>\n",
       "      <td>Air Asia</td>\n",
       "      <td>5551.731707</td>\n",
       "    </tr>\n",
       "    <tr>\n",
       "      <th>14</th>\n",
       "      <td>No info</td>\n",
       "      <td>IndiGo</td>\n",
       "      <td>5678.310616</td>\n",
       "    </tr>\n",
       "    <tr>\n",
       "      <th>13</th>\n",
       "      <td>No info</td>\n",
       "      <td>GoAir</td>\n",
       "      <td>5733.677632</td>\n",
       "    </tr>\n",
       "    <tr>\n",
       "      <th>2</th>\n",
       "      <td>1 Long layover</td>\n",
       "      <td>SpiceJet</td>\n",
       "      <td>7744.000000</td>\n",
       "    </tr>\n",
       "    <tr>\n",
       "      <th>18</th>\n",
       "      <td>No info</td>\n",
       "      <td>Vistara</td>\n",
       "      <td>7846.535211</td>\n",
       "    </tr>\n",
       "    <tr>\n",
       "      <th>9</th>\n",
       "      <td>No Info</td>\n",
       "      <td>IndiGo</td>\n",
       "      <td>8044.666667</td>\n",
       "    </tr>\n",
       "    <tr>\n",
       "      <th>8</th>\n",
       "      <td>In-flight meal not included</td>\n",
       "      <td>Multiple carriers</td>\n",
       "      <td>9365.477612</td>\n",
       "    </tr>\n",
       "    <tr>\n",
       "      <th>7</th>\n",
       "      <td>In-flight meal not included</td>\n",
       "      <td>Jet Airways</td>\n",
       "      <td>9466.039625</td>\n",
       "    </tr>\n",
       "    <tr>\n",
       "      <th>12</th>\n",
       "      <td>No info</td>\n",
       "      <td>Air India</td>\n",
       "      <td>9524.056484</td>\n",
       "    </tr>\n",
       "    <tr>\n",
       "      <th>19</th>\n",
       "      <td>Red-eye flight</td>\n",
       "      <td>Air Asia</td>\n",
       "      <td>10873.000000</td>\n",
       "    </tr>\n",
       "    <tr>\n",
       "      <th>16</th>\n",
       "      <td>No info</td>\n",
       "      <td>Multiple carriers</td>\n",
       "      <td>10946.630536</td>\n",
       "    </tr>\n",
       "    <tr>\n",
       "      <th>15</th>\n",
       "      <td>No info</td>\n",
       "      <td>Jet Airways</td>\n",
       "      <td>13479.951429</td>\n",
       "    </tr>\n",
       "    <tr>\n",
       "      <th>0</th>\n",
       "      <td>1 Long layover</td>\n",
       "      <td>Air India</td>\n",
       "      <td>13825.666667</td>\n",
       "    </tr>\n",
       "    <tr>\n",
       "      <th>6</th>\n",
       "      <td>Change airports</td>\n",
       "      <td>Air India</td>\n",
       "      <td>17186.800000</td>\n",
       "    </tr>\n",
       "    <tr>\n",
       "      <th>1</th>\n",
       "      <td>1 Long layover</td>\n",
       "      <td>Jet Airways</td>\n",
       "      <td>22409.900000</td>\n",
       "    </tr>\n",
       "    <tr>\n",
       "      <th>5</th>\n",
       "      <td>Business class</td>\n",
       "      <td>Jet Airways</td>\n",
       "      <td>22906.000000</td>\n",
       "    </tr>\n",
       "    <tr>\n",
       "      <th>4</th>\n",
       "      <td>2 Long layover</td>\n",
       "      <td>Air India</td>\n",
       "      <td>22906.000000</td>\n",
       "    </tr>\n",
       "    <tr>\n",
       "      <th>3</th>\n",
       "      <td>1 Short layover</td>\n",
       "      <td>Air India</td>\n",
       "      <td>22906.000000</td>\n",
       "    </tr>\n",
       "  </tbody>\n",
       "</table>\n",
       "</div>"
      ],
      "text/plain": [
       "                 Additional_Info            Airline         Price\n",
       "10  No check-in baggage included           SpiceJet   3618.289157\n",
       "17                       No info           SpiceJet   4866.741573\n",
       "11                       No info           Air Asia   5551.731707\n",
       "14                       No info             IndiGo   5678.310616\n",
       "13                       No info              GoAir   5733.677632\n",
       "2                 1 Long layover           SpiceJet   7744.000000\n",
       "18                       No info            Vistara   7846.535211\n",
       "9                        No Info             IndiGo   8044.666667\n",
       "8    In-flight meal not included  Multiple carriers   9365.477612\n",
       "7    In-flight meal not included        Jet Airways   9466.039625\n",
       "12                       No info          Air India   9524.056484\n",
       "19                Red-eye flight           Air Asia  10873.000000\n",
       "16                       No info  Multiple carriers  10946.630536\n",
       "15                       No info        Jet Airways  13479.951429\n",
       "0                 1 Long layover          Air India  13825.666667\n",
       "6                Change airports          Air India  17186.800000\n",
       "1                 1 Long layover        Jet Airways  22409.900000\n",
       "5                 Business class        Jet Airways  22906.000000\n",
       "4                 2 Long layover          Air India  22906.000000\n",
       "3                1 Short layover          Air India  22906.000000"
      ]
     },
     "execution_count": 49,
     "metadata": {},
     "output_type": "execute_result"
    }
   ],
   "source": [
    "ndf= df.groupby(['Additional_Info','Airline'])['Price'].mean().reset_index()\n",
    "ndf.sort_values('Price')"
   ]
  },
  {
   "cell_type": "code",
   "execution_count": 50,
   "id": "613034e2",
   "metadata": {
    "scrolled": false
   },
   "outputs": [
    {
     "data": {
      "image/png": "[encoded data removed]",
      "text/plain": [
       "<Figure size 1080x720 with 1 Axes>"
      ]
     },
     "metadata": {
      "needs_background": "light"
     },
     "output_type": "display_data"
    }
   ],
   "source": [
    "plt.figure(figsize=(15,10))\n",
    "ax=sns.barplot(y = \"Price\", x = \"Airline\",hue=\"Additional_Info\",data =ndf.sort_values(\"Price\"),palette='Blues_r')\n",
    "plt.title(\"Airline mean prices based on additional info and company \",fontsize=18)\n",
    "plt.show()"
   ]
  },
  {
   "cell_type": "markdown",
   "id": "0c6436c7",
   "metadata": {},
   "source": [
    "* No check in baggage included makes price get lower\n",
    "* layover makes prices get higher\n",
    "* in flight_meal not included makes price get lower \n",
    "* air asia the only company that has red_eye flight and its price is high \n",
    "* air india the only company that has change airports flight and its price is high "
   ]
  },
  {
   "cell_type": "markdown",
   "id": "a7a83efa",
   "metadata": {},
   "source": [
    "# which flights are the most expensive & the cheapest?"
   ]
  },
  {
   "cell_type": "code",
   "execution_count": 51,
   "id": "4bd20cb5",
   "metadata": {},
   "outputs": [
    {
     "data": {
      "text/html": [
       "<div>\n",
       "<style scoped>\n",
       "    .dataframe tbody tr th:only-of-type {\n",
       "        vertical-align: middle;\n",
       "    }\n",
       "\n",
       "    .dataframe tbody tr th {\n",
       "        vertical-align: top;\n",
       "    }\n",
       "\n",
       "    .dataframe thead th {\n",
       "        text-align: right;\n",
       "    }\n",
       "</style>\n",
       "<table border=\"1\" class=\"dataframe\">\n",
       "  <thead>\n",
       "    <tr style=\"text-align: right;\">\n",
       "      <th></th>\n",
       "      <th>Source</th>\n",
       "      <th>Destination</th>\n",
       "      <th>Price</th>\n",
       "    </tr>\n",
       "  </thead>\n",
       "  <tbody>\n",
       "    <tr>\n",
       "      <th>2</th>\n",
       "      <td>Chennai</td>\n",
       "      <td>Kolkata</td>\n",
       "      <td>4772.208791</td>\n",
       "    </tr>\n",
       "    <tr>\n",
       "      <th>5</th>\n",
       "      <td>Mumbai</td>\n",
       "      <td>Hyderabad</td>\n",
       "      <td>4963.076772</td>\n",
       "    </tr>\n",
       "    <tr>\n",
       "      <th>0</th>\n",
       "      <td>Banglore</td>\n",
       "      <td>Delhi</td>\n",
       "      <td>5125.410560</td>\n",
       "    </tr>\n",
       "    <tr>\n",
       "      <th>4</th>\n",
       "      <td>Kolkata</td>\n",
       "      <td>Banglore</td>\n",
       "      <td>9155.822796</td>\n",
       "    </tr>\n",
       "    <tr>\n",
       "      <th>3</th>\n",
       "      <td>Delhi</td>\n",
       "      <td>Cochin</td>\n",
       "      <td>10436.198247</td>\n",
       "    </tr>\n",
       "    <tr>\n",
       "      <th>1</th>\n",
       "      <td>Banglore</td>\n",
       "      <td>New Delhi</td>\n",
       "      <td>11296.835479</td>\n",
       "    </tr>\n",
       "  </tbody>\n",
       "</table>\n",
       "</div>"
      ],
      "text/plain": [
       "     Source Destination         Price\n",
       "2   Chennai     Kolkata   4772.208791\n",
       "5    Mumbai   Hyderabad   4963.076772\n",
       "0  Banglore       Delhi   5125.410560\n",
       "4   Kolkata    Banglore   9155.822796\n",
       "3     Delhi      Cochin  10436.198247\n",
       "1  Banglore   New Delhi  11296.835479"
      ]
     },
     "execution_count": 51,
     "metadata": {},
     "output_type": "execute_result"
    }
   ],
   "source": [
    "ndf= df.groupby(['Source','Destination'])['Price'].mean().reset_index()\n",
    "ndf.sort_values('Price')"
   ]
  },
  {
   "cell_type": "markdown",
   "id": "a9986499",
   "metadata": {},
   "source": [
    "* the most expensive flights is from Banglore to New Delhi \n",
    "* the cheapest flights is from chennai to Kolkata "
   ]
  },
  {
   "cell_type": "markdown",
   "id": "0c065321",
   "metadata": {},
   "source": [
    "# Modeling"
   ]
  },
  {
   "cell_type": "markdown",
   "id": "864959b5",
   "metadata": {},
   "source": [
    "# preparing our train and test data "
   ]
  },
  {
   "cell_type": "code",
   "execution_count": 52,
   "id": "ecf87fe8",
   "metadata": {},
   "outputs": [],
   "source": [
    "# reading the data again for a compact clean preparation\n",
    "df = pd.read_csv('Train set.csv')\n",
    "sdf = pd.read_csv('Test set.csv')"
   ]
  },
  {
   "cell_type": "code",
   "execution_count": 53,
   "id": "db8bbb68",
   "metadata": {},
   "outputs": [],
   "source": [
    "#defined a function that takes a duration string and returns the number of minutes\n",
    "def tominutes(x):\n",
    "    x = str(x).split()\n",
    "    m, h = 0, 0\n",
    "    for i in x:\n",
    "        if 'h' in i:\n",
    "            h = int(i[:-1])\n",
    "        if 'm' in i:\n",
    "            m = int(i[:-1])\n",
    "    return h*60 + m"
   ]
  },
  {
   "cell_type": "code",
   "execution_count": 54,
   "id": "37c44da2",
   "metadata": {},
   "outputs": [],
   "source": [
    "#defined a function that prepares the data to be fed into the model\n",
    "def do(q, r = 6):\n",
    "    \n",
    "    #convert duration column to minutes\n",
    "    q.Duration = q.Duration.apply(tominutes, convert_dtype=False)\n",
    "    \n",
    "    #convert Dep Time to DateTime\n",
    "    from datetime import datetime\n",
    "    q['Dep_DateTime'] = q.Date_of_Journey + ' ' + q.Dep_Time\n",
    "    q.Dep_DateTime = pd.to_datetime(q.Dep_DateTime)\n",
    "\n",
    "    #extract features from Route and dropping dependent columns\n",
    "    q = pd.concat([q, q.Route.apply(lambda x: pd.Series(str(x).split(' → ')))], axis=1)\n",
    "\n",
    "    #save the arrival_time column\n",
    "\n",
    "    #extract features from Dep_DateTime in minutes\n",
    "    q.Dep_DateTime = (q.Dep_DateTime-datetime(2019, 1, 1))/ np.timedelta64(1, 'm')\n",
    "\n",
    "    #apply some dummies manually\n",
    "    q.Total_Stops = q.Total_Stops.map({'non-stop':0, '1 stop':1, '2 stops':2, '3 stops':3, '4 stops':4})\n",
    "    q.Additional_Info = q.Additional_Info.map({'No info':0, 'In-flight meal not included':1, 'No check-in baggage included':2, '1 Long layover':3, 'Change airports':4, 'Business class':5, '2 Long layover':6, 'Red-eye flight':7})\n",
    "    q.Airline = q.Airline.map({'IndiGo': 0, 'Vistara': 1, 'Jet Airways': 2, 'Multiple carriers': 3, 'Air India': 4, 'GoAir': 5, 'SpiceJet': 6, 'Air Asia': 7, 'Multiple carriers Premium economy': 8, 'Jet Airways Business': 9, 'Vistara Premium economy': 10, 'Trujet': 11})\n",
    "    ddict = {'BOM': 1, 'BLR': 2, 'MAA': 3, 'DEL': 4, 'JAI': 5, 'NAG': 6, 'AMD': 7, 'JDH': 8, 'HYD': 9, 'PNQ': 10, 'GAU': 11, 'COK': 12, 'IDR': 13, 'BHO': 14, 'IXC': 15, 'BDQ': 16, 'LKO': 17, 'BBI': 18, 'IXB': 19, 'RPR': 20, 'IXU': 21, 'ATQ': 22, 'GWL': 23, 'GOI': 24, 'IXR': 25, 'KNU': 26, 'DED': 27, 'TRV': 28, 'VGA': 29, 'VNS': 30, 'HBX': 31, 'UDR': 32, 'IXZ': 33, 'PAT': 34, 'STV': 35, 'IXA': 36, 'NDC': 37, 'IMF': 38, 'ISK': 39, 'VTZ': 40, 'CCU': 41}\n",
    "    for i in range(0, r):\n",
    "        q[i] = q[i].map(ddict)\n",
    "\n",
    "\n",
    "    q.Arrival_Time = pd.to_datetime(q.Arrival_Time)\n",
    "    q.Date_of_Journey = pd.to_datetime(q.Date_of_Journey, format='%d/%m/%Y')\n",
    "    q['Arrival_Time'+'_hour']=q['Arrival_Time'].dt.hour\n",
    "    q['Arrival_Time'+'_min']=q['Arrival_Time'].dt.minute\n",
    "    q['Month_of_Journey']=q['Date_of_Journey'].dt.month\n",
    "    q['Day_of_Journey']=q['Date_of_Journey'].dt.day\n",
    "    q.drop(['Date_of_Journey', 'Dep_Time', 'Source', 'Destination', 'Route', 'Arrival_Time'], axis=1, inplace=True)\n",
    "\n",
    "    q.fillna(0, inplace=True)\n",
    "    q = q.astype('int')\n",
    "    \n",
    "    return q"
   ]
  },
  {
   "cell_type": "code",
   "execution_count": 55,
   "id": "92780aa4",
   "metadata": {},
   "outputs": [
    {
     "data": {
      "text/html": [
       "<div>\n",
       "<style scoped>\n",
       "    .dataframe tbody tr th:only-of-type {\n",
       "        vertical-align: middle;\n",
       "    }\n",
       "\n",
       "    .dataframe tbody tr th {\n",
       "        vertical-align: top;\n",
       "    }\n",
       "\n",
       "    .dataframe thead th {\n",
       "        text-align: right;\n",
       "    }\n",
       "</style>\n",
       "<table border=\"1\" class=\"dataframe\">\n",
       "  <thead>\n",
       "    <tr style=\"text-align: right;\">\n",
       "      <th></th>\n",
       "      <th>Airline</th>\n",
       "      <th>Duration</th>\n",
       "      <th>Total_Stops</th>\n",
       "      <th>Additional_Info</th>\n",
       "      <th>Dep_DateTime</th>\n",
       "      <th>0</th>\n",
       "      <th>1</th>\n",
       "      <th>2</th>\n",
       "      <th>3</th>\n",
       "      <th>4</th>\n",
       "      <th>Arrival_Time_hour</th>\n",
       "      <th>Arrival_Time_min</th>\n",
       "      <th>Day_of_Journey</th>\n",
       "      <th>Month_of_Journey</th>\n",
       "      <th>Price</th>\n",
       "    </tr>\n",
       "  </thead>\n",
       "  <tbody>\n",
       "    <tr>\n",
       "      <th>0</th>\n",
       "      <td>4</td>\n",
       "      <td>1700</td>\n",
       "      <td>2</td>\n",
       "      <td>0</td>\n",
       "      <td>356245</td>\n",
       "      <td>41</td>\n",
       "      <td>1</td>\n",
       "      <td>12</td>\n",
       "      <td>2</td>\n",
       "      <td>0</td>\n",
       "      <td>13</td>\n",
       "      <td>45</td>\n",
       "      <td>9</td>\n",
       "      <td>5</td>\n",
       "      <td>NaN</td>\n",
       "    </tr>\n",
       "    <tr>\n",
       "      <th>1</th>\n",
       "      <td>7</td>\n",
       "      <td>165</td>\n",
       "      <td>0</td>\n",
       "      <td>0</td>\n",
       "      <td>206590</td>\n",
       "      <td>2</td>\n",
       "      <td>4</td>\n",
       "      <td>0</td>\n",
       "      <td>0</td>\n",
       "      <td>0</td>\n",
       "      <td>13</td>\n",
       "      <td>55</td>\n",
       "      <td>24</td>\n",
       "      <td>5</td>\n",
       "      <td>NaN</td>\n",
       "    </tr>\n",
       "    <tr>\n",
       "      <th>2</th>\n",
       "      <td>4</td>\n",
       "      <td>150</td>\n",
       "      <td>0</td>\n",
       "      <td>0</td>\n",
       "      <td>486135</td>\n",
       "      <td>41</td>\n",
       "      <td>2</td>\n",
       "      <td>0</td>\n",
       "      <td>0</td>\n",
       "      <td>0</td>\n",
       "      <td>16</td>\n",
       "      <td>45</td>\n",
       "      <td>12</td>\n",
       "      <td>4</td>\n",
       "      <td>NaN</td>\n",
       "    </tr>\n",
       "    <tr>\n",
       "      <th>3</th>\n",
       "      <td>2</td>\n",
       "      <td>1145</td>\n",
       "      <td>1</td>\n",
       "      <td>1</td>\n",
       "      <td>211290</td>\n",
       "      <td>4</td>\n",
       "      <td>1</td>\n",
       "      <td>12</td>\n",
       "      <td>0</td>\n",
       "      <td>0</td>\n",
       "      <td>12</td>\n",
       "      <td>35</td>\n",
       "      <td>27</td>\n",
       "      <td>5</td>\n",
       "      <td>NaN</td>\n",
       "    </tr>\n",
       "    <tr>\n",
       "      <th>4</th>\n",
       "      <td>2</td>\n",
       "      <td>1500</td>\n",
       "      <td>1</td>\n",
       "      <td>1</td>\n",
       "      <td>224220</td>\n",
       "      <td>41</td>\n",
       "      <td>4</td>\n",
       "      <td>2</td>\n",
       "      <td>0</td>\n",
       "      <td>0</td>\n",
       "      <td>18</td>\n",
       "      <td>0</td>\n",
       "      <td>6</td>\n",
       "      <td>5</td>\n",
       "      <td>NaN</td>\n",
       "    </tr>\n",
       "  </tbody>\n",
       "</table>\n",
       "</div>"
      ],
      "text/plain": [
       "   Airline  Duration  Total_Stops  Additional_Info  Dep_DateTime   0  1   2  \\\n",
       "0        4      1700            2                0        356245  41  1  12   \n",
       "1        7       165            0                0        206590   2  4   0   \n",
       "2        4       150            0                0        486135  41  2   0   \n",
       "3        2      1145            1                1        211290   4  1  12   \n",
       "4        2      1500            1                1        224220  41  4   2   \n",
       "\n",
       "   3  4  Arrival_Time_hour  Arrival_Time_min  Day_of_Journey  \\\n",
       "0  2  0                 13                45               9   \n",
       "1  0  0                 13                55              24   \n",
       "2  0  0                 16                45              12   \n",
       "3  0  0                 12                35              27   \n",
       "4  0  0                 18                 0               6   \n",
       "\n",
       "   Month_of_Journey  Price  \n",
       "0                 5    NaN  \n",
       "1                 5    NaN  \n",
       "2                 4    NaN  \n",
       "3                 5    NaN  \n",
       "4                 5    NaN  "
      ]
     },
     "execution_count": 55,
     "metadata": {},
     "output_type": "execute_result"
    }
   ],
   "source": [
    "cols_order = ['Airline','Duration', 'Total_Stops', 'Additional_Info', 'Dep_DateTime', 0, 1, 2, 3, 4, 'Arrival_Time_hour', 'Arrival_Time_min','Day_of_Journey','Month_of_Journey', 'Price']\n",
    "df = do(df).drop([5], axis=1).reindex(columns=cols_order)\n",
    "sdf = do(sdf, 5).reindex(columns= cols_order)\n",
    "sdf.head()"
   ]
  },
  {
   "cell_type": "code",
   "execution_count": 56,
   "id": "bef4f668",
   "metadata": {},
   "outputs": [
    {
     "data": {
      "text/html": [
       "<div>\n",
       "<style scoped>\n",
       "    .dataframe tbody tr th:only-of-type {\n",
       "        vertical-align: middle;\n",
       "    }\n",
       "\n",
       "    .dataframe tbody tr th {\n",
       "        vertical-align: top;\n",
       "    }\n",
       "\n",
       "    .dataframe thead th {\n",
       "        text-align: right;\n",
       "    }\n",
       "</style>\n",
       "<table border=\"1\" class=\"dataframe\">\n",
       "  <thead>\n",
       "    <tr style=\"text-align: right;\">\n",
       "      <th></th>\n",
       "      <th>Airline</th>\n",
       "      <th>Duration</th>\n",
       "      <th>Total_Stops</th>\n",
       "      <th>Additional_Info</th>\n",
       "      <th>Dep_DateTime</th>\n",
       "      <th>0</th>\n",
       "      <th>1</th>\n",
       "      <th>2</th>\n",
       "      <th>3</th>\n",
       "      <th>4</th>\n",
       "      <th>Arrival_Time_hour</th>\n",
       "      <th>Arrival_Time_min</th>\n",
       "      <th>Day_of_Journey</th>\n",
       "      <th>Month_of_Journey</th>\n",
       "      <th>Price</th>\n",
       "    </tr>\n",
       "  </thead>\n",
       "  <tbody>\n",
       "    <tr>\n",
       "      <th>0</th>\n",
       "      <td>0</td>\n",
       "      <td>150</td>\n",
       "      <td>0</td>\n",
       "      <td>0</td>\n",
       "      <td>357985</td>\n",
       "      <td>41</td>\n",
       "      <td>2</td>\n",
       "      <td>0</td>\n",
       "      <td>0</td>\n",
       "      <td>0</td>\n",
       "      <td>16</td>\n",
       "      <td>55</td>\n",
       "      <td>9</td>\n",
       "      <td>6</td>\n",
       "      <td>5644</td>\n",
       "    </tr>\n",
       "    <tr>\n",
       "      <th>1</th>\n",
       "      <td>1</td>\n",
       "      <td>1480</td>\n",
       "      <td>1</td>\n",
       "      <td>0</td>\n",
       "      <td>220845</td>\n",
       "      <td>1</td>\n",
       "      <td>4</td>\n",
       "      <td>9</td>\n",
       "      <td>0</td>\n",
       "      <td>0</td>\n",
       "      <td>9</td>\n",
       "      <td>25</td>\n",
       "      <td>6</td>\n",
       "      <td>3</td>\n",
       "      <td>12395</td>\n",
       "    </tr>\n",
       "    <tr>\n",
       "      <th>2</th>\n",
       "      <td>0</td>\n",
       "      <td>165</td>\n",
       "      <td>0</td>\n",
       "      <td>0</td>\n",
       "      <td>89645</td>\n",
       "      <td>2</td>\n",
       "      <td>4</td>\n",
       "      <td>0</td>\n",
       "      <td>0</td>\n",
       "      <td>0</td>\n",
       "      <td>8</td>\n",
       "      <td>50</td>\n",
       "      <td>3</td>\n",
       "      <td>4</td>\n",
       "      <td>4077</td>\n",
       "    </tr>\n",
       "    <tr>\n",
       "      <th>3</th>\n",
       "      <td>1</td>\n",
       "      <td>385</td>\n",
       "      <td>1</td>\n",
       "      <td>0</td>\n",
       "      <td>489180</td>\n",
       "      <td>41</td>\n",
       "      <td>4</td>\n",
       "      <td>2</td>\n",
       "      <td>0</td>\n",
       "      <td>0</td>\n",
       "      <td>23</td>\n",
       "      <td>25</td>\n",
       "      <td>12</td>\n",
       "      <td>6</td>\n",
       "      <td>8610</td>\n",
       "    </tr>\n",
       "    <tr>\n",
       "      <th>4</th>\n",
       "      <td>0</td>\n",
       "      <td>175</td>\n",
       "      <td>0</td>\n",
       "      <td>0</td>\n",
       "      <td>3485</td>\n",
       "      <td>2</td>\n",
       "      <td>4</td>\n",
       "      <td>0</td>\n",
       "      <td>0</td>\n",
       "      <td>0</td>\n",
       "      <td>13</td>\n",
       "      <td>0</td>\n",
       "      <td>1</td>\n",
       "      <td>3</td>\n",
       "      <td>10067</td>\n",
       "    </tr>\n",
       "  </tbody>\n",
       "</table>\n",
       "</div>"
      ],
      "text/plain": [
       "   Airline  Duration  Total_Stops  Additional_Info  Dep_DateTime   0  1  2  3  \\\n",
       "0        0       150            0                0        357985  41  2  0  0   \n",
       "1        1      1480            1                0        220845   1  4  9  0   \n",
       "2        0       165            0                0         89645   2  4  0  0   \n",
       "3        1       385            1                0        489180  41  4  2  0   \n",
       "4        0       175            0                0          3485   2  4  0  0   \n",
       "\n",
       "   4  Arrival_Time_hour  Arrival_Time_min  Day_of_Journey  Month_of_Journey  \\\n",
       "0  0                 16                55               9                 6   \n",
       "1  0                  9                25               6                 3   \n",
       "2  0                  8                50               3                 4   \n",
       "3  0                 23                25              12                 6   \n",
       "4  0                 13                 0               1                 3   \n",
       "\n",
       "   Price  \n",
       "0   5644  \n",
       "1  12395  \n",
       "2   4077  \n",
       "3   8610  \n",
       "4  10067  "
      ]
     },
     "execution_count": 56,
     "metadata": {},
     "output_type": "execute_result"
    }
   ],
   "source": [
    "df.head()"
   ]
  },
  {
   "cell_type": "markdown",
   "id": "492e49ae",
   "metadata": {},
   "source": [
    "### Scaling the data for better performance and splitting the data into train and test"
   ]
  },
  {
   "cell_type": "code",
   "execution_count": 57,
   "id": "11ce53b3",
   "metadata": {},
   "outputs": [],
   "source": [
    "from sklearn.model_selection import train_test_split\n",
    "from sklearn.preprocessing import StandardScaler\n",
    "\n",
    "X = df.values[:, :-1]\n",
    "y = df.values[:, -1]\n",
    "\n",
    "Xstd = StandardScaler().fit(X)\n",
    "ystd = StandardScaler().fit(y.reshape(-1, 1))\n",
    "\n",
    "X = Xstd.transform(X)\n",
    "y = ystd.transform(y.reshape(-1, 1))\n",
    "\n",
    "X_train, X_test, y_train, y_test = train_test_split(X, y, test_size=0.2, random_state=42)"
   ]
  },
  {
   "cell_type": "markdown",
   "id": "7d8130d0",
   "metadata": {},
   "source": [
    "### Defining our to-be-used metrics"
   ]
  },
  {
   "cell_type": "code",
   "execution_count": 58,
   "id": "b5153ff3",
   "metadata": {},
   "outputs": [],
   "source": [
    "from sklearn.metrics import mean_absolute_error\n",
    "from sklearn.metrics import mean_squared_error\n",
    "from sklearn.metrics import r2_score\n",
    "from sklearn.metrics import mean_squared_log_error"
   ]
  },
  {
   "cell_type": "markdown",
   "id": "bef8b708",
   "metadata": {},
   "source": [
    "### After some good trials and errors, we found that the best model -that we could get- is in the following structure:"
   ]
  },
  {
   "cell_type": "code",
   "execution_count": 59,
   "id": "83ca8735",
   "metadata": {},
   "outputs": [],
   "source": [
    "from xgboost import XGBRegressor\n",
    "from sklearn.ensemble import StackingRegressor\n",
    "from sklearn.ensemble import AdaBoostRegressor\n",
    "from sklearn.tree import DecisionTreeRegressor\n",
    "from sklearn.svm import SVR\n",
    "\n",
    "es = [('xgb', XGBRegressor(reg_lambda = 1, n_estimators = 100, max_depth = 20, learning_rate = 0.1, tree_method = 'exact',num_parallel_tree = 4)), ('ada', AdaBoostRegressor(DecisionTreeRegressor(), n_estimators= 25, loss= 'exponential'))]\n",
    "fe = SVR(kernel = 'rbf', C = 1000, gamma = 0.01)\n",
    "model = StackingRegressor(estimators= es, n_jobs = -1, final_estimator= fe).fit(X_train, y_train.ravel())"
   ]
  },
  {
   "cell_type": "markdown",
   "id": "0d278780",
   "metadata": {},
   "source": [
    "### Applying the metrics, the moment of truth:"
   ]
  },
  {
   "cell_type": "code",
   "execution_count": 60,
   "id": "e4a03ab4",
   "metadata": {},
   "outputs": [
    {
     "name": "stdout",
     "output_type": "stream",
     "text": [
      "101.87195923250191 1657612.6911662077 0.9234864794624045\n"
     ]
    }
   ],
   "source": [
    "yt_pred = model.predict(X_train)\n",
    "y_train, yt_pred = ystd.inverse_transform(y_train.reshape(-1, 1)), ystd.inverse_transform(yt_pred.reshape(-1, 1))\n",
    "print(mean_absolute_error(y_train, yt_pred),\n",
    "mean_squared_error(y_train, yt_pred),\n",
    "r2_score(y_train, yt_pred))"
   ]
  },
  {
   "cell_type": "code",
   "execution_count": 61,
   "id": "d21d8af3",
   "metadata": {},
   "outputs": [
    {
     "name": "stdout",
     "output_type": "stream",
     "text": [
      "634.3509763939577 1701398.9625769162 0.9043953069195498\n"
     ]
    }
   ],
   "source": [
    "y_pred = model.predict(X_test)\n",
    "y_test, y_pred = ystd.inverse_transform(y_test.reshape(-1, 1)), ystd.inverse_transform(y_pred.reshape(-1, 1))\n",
    "print(mean_absolute_error(y_test, y_pred),\n",
    "mean_squared_error(y_test, y_pred),\n",
    "r2_score(y_test, y_pred))"
   ]
  },
  {
   "cell_type": "markdown",
   "id": "44050c87",
   "metadata": {},
   "source": [
    "### Good enough, let's export the good stuff:"
   ]
  },
  {
   "cell_type": "code",
   "execution_count": 62,
   "id": "10e63643",
   "metadata": {},
   "outputs": [],
   "source": [
    "Xs = sdf.values[:, :-1]\n",
    "Xs = Xstd.transform(Xs)\n",
    "ys = model.predict(Xs)\n",
    "ys = ystd.inverse_transform(ys.reshape(-1, 1))"
   ]
  },
  {
   "cell_type": "code",
   "execution_count": 63,
   "id": "5af6e301",
   "metadata": {},
   "outputs": [
    {
     "data": {
      "text/html": [
       "<div>\n",
       "<style scoped>\n",
       "    .dataframe tbody tr th:only-of-type {\n",
       "        vertical-align: middle;\n",
       "    }\n",
       "\n",
       "    .dataframe tbody tr th {\n",
       "        vertical-align: top;\n",
       "    }\n",
       "\n",
       "    .dataframe thead th {\n",
       "        text-align: right;\n",
       "    }\n",
       "</style>\n",
       "<table border=\"1\" class=\"dataframe\">\n",
       "  <thead>\n",
       "    <tr style=\"text-align: right;\">\n",
       "      <th></th>\n",
       "      <th>Price</th>\n",
       "    </tr>\n",
       "  </thead>\n",
       "  <tbody>\n",
       "    <tr>\n",
       "      <th>0</th>\n",
       "      <td>12573.248730</td>\n",
       "    </tr>\n",
       "    <tr>\n",
       "      <th>1</th>\n",
       "      <td>3445.336959</td>\n",
       "    </tr>\n",
       "    <tr>\n",
       "      <th>2</th>\n",
       "      <td>5474.706507</td>\n",
       "    </tr>\n",
       "    <tr>\n",
       "      <th>3</th>\n",
       "      <td>12902.061773</td>\n",
       "    </tr>\n",
       "    <tr>\n",
       "      <th>4</th>\n",
       "      <td>9439.825663</td>\n",
       "    </tr>\n",
       "    <tr>\n",
       "      <th>...</th>\n",
       "      <td>...</td>\n",
       "    </tr>\n",
       "    <tr>\n",
       "      <th>2666</th>\n",
       "      <td>8464.992277</td>\n",
       "    </tr>\n",
       "    <tr>\n",
       "      <th>2667</th>\n",
       "      <td>8352.584673</td>\n",
       "    </tr>\n",
       "    <tr>\n",
       "      <th>2668</th>\n",
       "      <td>4833.478679</td>\n",
       "    </tr>\n",
       "    <tr>\n",
       "      <th>2669</th>\n",
       "      <td>6202.065984</td>\n",
       "    </tr>\n",
       "    <tr>\n",
       "      <th>2670</th>\n",
       "      <td>3833.178037</td>\n",
       "    </tr>\n",
       "  </tbody>\n",
       "</table>\n",
       "<p>2671 rows × 1 columns</p>\n",
       "</div>"
      ],
      "text/plain": [
       "             Price\n",
       "0     12573.248730\n",
       "1      3445.336959\n",
       "2      5474.706507\n",
       "3     12902.061773\n",
       "4      9439.825663\n",
       "...            ...\n",
       "2666   8464.992277\n",
       "2667   8352.584673\n",
       "2668   4833.478679\n",
       "2669   6202.065984\n",
       "2670   3833.178037\n",
       "\n",
       "[2671 rows x 1 columns]"
      ]
     },
     "execution_count": 63,
     "metadata": {},
     "output_type": "execute_result"
    }
   ],
   "source": [
    "ssdf = pd.DataFrame(ys, columns=['Price'])\n",
    "ssdf.to_csv('submissiondttt.csv', index_label = 'Id')\n",
    "ssdf"
   ]
  },
  {
   "cell_type": "markdown",
   "id": "133bee96",
   "metadata": {},
   "source": [
    "<h3>Summary</h3>\n",
    " \n",
    " * `Analysis`\n",
    "   * Jet Airways has the biggest number of flights\n",
    "   * Business flights are only available in Jet airways\n",
    "   * Premium economy flights are only available in vistara and Multiple carriers\n",
    "   * there is a big gap between the prices in the two class(business and economy) in jet airrways\n",
    "   * there is slight difference between premium economy and economy in vistara and multiple carriers\n",
    "   * jet airways has the highest prices and spicejet is the cheapest\n",
    "   * leaving at night is the cheapest way to travel. But it's also visible that arriving morning and afternoon is also cheap.\n",
    "   * March is the most expensive month for all companies except Air Asia(June month)\n",
    "   * April is the cheapet month for all companies except spicejet(june month)\n",
    "   * the most expensive flights is from Banglore to New Delhi \n",
    "   * the cheapest flights is from chennai to Kolkata \n",
    "* `Model`\n",
    "   * we used DecisionTreeRegressor and XGBRegressor and applied stakingregressor on them \n",
    "   * we applied AdaBoostRegressor on DecisionTreeRegressor \n",
    "   * mean absolute error= 634.3509763939577 on train test "
   ]
  },
  {
   "cell_type": "markdown",
   "id": "7b443bb4",
   "metadata": {},
   "source": [
    "<h3>Future Work</h3>\n",
    "\n",
    " * We could use Auto exploration \n",
    " * We could use Auto_ml \n",
    " * we could use Grid Search\n",
    " * A very good idea was to ask an expert, for example, an Indian person who's involved in the air travel business could have a great impact on how we understood and analyzed the data.  \n"
   ]
  },
  {
   "cell_type": "markdown",
   "id": "f47c6b79",
   "metadata": {},
   "source": []
  }
 ],
 "metadata": {
  "kernelspec": {
   "display_name": "Python 3.8.8 ('base')",
   "language": "python",
   "name": "python3"
  },
  "language_info": {
   "codemirror_mode": {
    "name": "ipython",
    "version": 3
   },
   "file_extension": ".py",
   "mimetype": "text/x-python",
   "name": "python",
   "nbconvert_exporter": "python",
   "pygments_lexer": "ipython3",
   "version": "3.8.8"
  },
  "vscode": {
   "interpreter": {
    "hash": "8375062d4779c9668d7c9db68bfac82ede37ec64c49be84c786acfbd36f2c831"
   }
  }
 },
 "nbformat": 4,
 "nbformat_minor": 5
}
